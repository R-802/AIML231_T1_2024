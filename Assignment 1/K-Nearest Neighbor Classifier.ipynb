{
 "cells": [
  {
   "cell_type": "markdown",
   "id": "6675f80c-2296-4cb5-bdf2-479025007818",
   "metadata": {},
   "source": [
    "# AIML231 Assignement One - Part Two\n",
    "> Implementation of the K-Nearest Neighbor classifier"
   ]
  },
  {
   "cell_type": "markdown",
   "id": "cac5acd8-712c-45b5-8286-413fa6091599",
   "metadata": {},
   "source": [
    "## Imports"
   ]
  },
  {
   "cell_type": "code",
   "execution_count": null,
   "id": "b111e0d8-da98-42f6-af64-7fc547c3f527",
   "metadata": {},
   "outputs": [],
   "source": [
    "import numpy as np\n",
    "import pandas as pd\n",
    "from collections import Counter\n",
    "from sklearn.model_selection import train_test_split\n",
    "from sklearn.preprocessing import StandardScaler\n",
    "from tqdm.notebook import tqdm"
   ]
  },
  {
   "cell_type": "markdown",
   "id": "6e49aaf1-8283-4d8a-bdf8-d192622d6a77",
   "metadata": {},
   "source": [
    "## Function Definitions"
   ]
  },
  {
   "cell_type": "code",
   "execution_count": null,
   "id": "e094f359-2e31-4738-82fd-ed85920ba47d",
   "metadata": {},
   "outputs": [],
   "source": [
    "def euclidean_distance(point1, point2):\n",
    "    \"\"\"Calculate the Euclidean distance between two points.\"\"\"\n",
    "    return sum((p - q) ** 2 for p, q in zip(point1, point2)) ** 0.5\n",
    "\n",
    "def knn_classifier(train_data, train_labels, test_data, k=3):\n",
    "    \"\"\"Simple k-NN classifier.\"\"\"\n",
    "    predictions = []\n",
    "\n",
    "    for test_point in tqdm(test_data):\n",
    "        # Calculate distances from the current test point to all training points\n",
    "        distances = [euclidean_distance(test_point, train_point) for train_point in train_data]\n",
    "\n",
    "        # Get the indices of the k nearest neighbors\n",
    "        k_indices = np.argsort(distances)[:k]\n",
    "\n",
    "        # Get the labels of the k nearest neighbors\n",
    "        k_nearest_labels = [train_labels[i] for i in k_indices]\n",
    "\n",
    "        # Determine the most common label among the k nearest neighbors\n",
    "        most_common_label = Counter(k_nearest_labels).most_common(1)[0][0]\n",
    "\n",
    "        # Append the predicted label to the predictions list\n",
    "        predictions.append(most_common_label)\n",
    "\n",
    "    return np.array(predictions)"
   ]
  },
  {
   "cell_type": "markdown",
   "id": "cbaa0a38-640a-48fe-a8b3-c5bc5435fbc9",
   "metadata": {},
   "source": [
    "## Read and Split the Dataset"
   ]
  },
  {
   "cell_type": "code",
   "execution_count": null,
   "id": "f0590c97-45bb-4753-977c-7f69ad30ba32",
   "metadata": {},
   "outputs": [],
   "source": [
    "df = pd.read_csv('data/banknotes_new.csv')\n",
    "X, y = df.drop('Class', axis=1),  df['Class']\n",
    "\n",
    "# Use function StandardScaler().fit_transform() to normalize the value range of each feature in the dataset.\n",
    "X_std = StandardScaler().fit_transform(X)\n",
    "\n",
    "# Conduct training data and test data split randomly with a 50:50 ratio, setting random_state=100\n",
    "X_train, X_test, y_train, y_test = train_test_split(X_std, y, test_size=0.5, random_state=100)\n",
    "y_train = y_train.values\n",
    "y_test = y_test.values"
   ]
  },
  {
   "cell_type": "markdown",
   "id": "5cd6121c-35af-4b21-9db0-e9e8609352a2",
   "metadata": {},
   "source": [
    "## Set K Value and Train the Model"
   ]
  },
  {
   "cell_type": "code",
   "execution_count": null,
   "id": "3e2d55b2-2c23-4d61-9ead-2687ed79da0d",
   "metadata": {},
   "outputs": [],
   "source": [
    "k=400 # Set the value of k.\n",
    "test_label = knn_classifier(X_train, y_train, X_test, k=k)\n",
    "print(test_label) # View the predicion array"
   ]
  },
  {
   "cell_type": "markdown",
   "id": "2a2b0fa3-6f6b-4581-916d-d296f1de64af",
   "metadata": {},
   "source": [
    "## View the Accuracy of the Trained Model"
   ]
  },
  {
   "cell_type": "code",
   "execution_count": null,
   "id": "4cbc720c-f64a-4b77-a405-fd4d134bbf06",
   "metadata": {},
   "outputs": [],
   "source": [
    "# Calculate and print the accuracy of the knn classifier on the test dataset.\n",
    "accuracy = 1.0-np.sum(np.abs(y_test - test_label))/y_test.shape[0]\n",
    "print(f'The accuracy of the knn classifier is {accuracy} when k={k}')"
   ]
  }
 ],
 "metadata": {
  "kernelspec": {
   "display_name": "Python 3 (ipykernel)",
   "language": "python",
   "name": "python3"
  },
  "language_info": {
   "codemirror_mode": {
    "name": "ipython",
    "version": 3
   },
   "file_extension": ".py",
   "mimetype": "text/x-python",
   "name": "python",
   "nbconvert_exporter": "python",
   "pygments_lexer": "ipython3",
   "version": "3.12.2"
  }
 },
 "nbformat": 4,
 "nbformat_minor": 5
}
