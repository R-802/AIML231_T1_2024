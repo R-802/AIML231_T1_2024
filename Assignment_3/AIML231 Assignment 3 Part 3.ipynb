{
 "cells": [
  {
   "cell_type": "markdown",
   "metadata": {},
   "source": [
    "# AIML231 Assignment 3 | Part Three\n",
    "> Shemaiah Rangitaawa `300601546`"
   ]
  },
  {
   "cell_type": "markdown",
   "metadata": {},
   "source": [
    "# Part Three | Neural Networks"
   ]
  },
  {
   "cell_type": "code",
   "execution_count": 14,
   "metadata": {},
   "outputs": [
    {
     "name": "stdout",
     "output_type": "stream",
     "text": [
      "Device: cuda\n",
      "GPU: NVIDIA GeForce RTX 2070\n",
      "CUDA version: 12.1\n",
      "Total Memory (GB): 8.589606912\n",
      "Number of GPUs: 1\n"
     ]
    }
   ],
   "source": [
    "import torch\n",
    "\n",
    "device = torch.device(\"cuda\" if torch.cuda.is_available() else \"cpu\")\n",
    "\n",
    "if device.type == 'cuda':\n",
    "    print('Device:', device)\n",
    "    print('GPU:', torch.cuda.get_device_name(0))\n",
    "    print('CUDA version:', torch.version.cuda)\n",
    "    print('Total Memory (GB):', torch.cuda.get_device_properties(0).total_memory / 1e9) # Convert bytes to GB\n",
    "    print('Number of GPUs:', torch.cuda.device_count())\n",
    "else:\n",
    "    print('CUDA is not available')"
   ]
  },
  {
   "cell_type": "code",
   "execution_count": 15,
   "metadata": {},
   "outputs": [],
   "source": [
    "from sklearn.datasets import load_digits\n",
    "from sklearn.model_selection import train_test_split\n",
    "from sklearn.preprocessing import MinMaxScaler\n",
    "from torch.utils.data import TensorDataset, DataLoader\n",
    "\n",
    "# Load and split the dataset\n",
    "digits = load_digits()\n",
    "X_train, X_test, y_train, y_test = train_test_split(digits.data, digits.target, test_size=0.2, random_state=231)\n",
    "\n",
    "# Normalize data\n",
    "scaler = MinMaxScaler()\n",
    "X_train_scaled = scaler.fit_transform(X_train)\n",
    "X_test_scaled = scaler.transform(X_test)\n",
    "\n",
    "# Convert to PyTorch tensors\n",
    "X_train_tensor = torch.tensor(X_train_scaled, dtype=torch.float32)\n",
    "y_train_tensor = torch.tensor(y_train, dtype=torch.long)\n",
    "X_test_tensor = torch.tensor(X_test_scaled, dtype=torch.float32)\n",
    "y_test_tensor = torch.tensor(y_test, dtype=torch.long)\n",
    "\n",
    "# Create DataLoader objects\n",
    "train_dataset = TensorDataset(X_train_tensor, y_train_tensor)\n",
    "test_dataset = TensorDataset(X_test_tensor, y_test_tensor)\n",
    "train_loader = DataLoader(train_dataset, batch_size=64, shuffle=True)\n",
    "test_loader = DataLoader(test_dataset, batch_size=64, shuffle=False)"
   ]
  },
  {
   "cell_type": "markdown",
   "metadata": {},
   "source": [
    "## Network Definition"
   ]
  },
  {
   "cell_type": "code",
   "execution_count": 16,
   "metadata": {},
   "outputs": [],
   "source": [
    "import torch\n",
    "import torch.nn as nn\n",
    "import torch.nn.functional as F\n",
    "\n",
    "class MLPNN(nn.Module):\n",
    "    def __init__(self, activation_func=nn.ReLU()):\n",
    "        super(MLPNN, self).__init__()\n",
    "        self.fc1 = nn.Linear(64, 256)  # 64 inputs (8x8 images), 256 neurons in hidden layer\n",
    "        self.fc2 = nn.Linear(256, 10)  # 10 output classes (digits 0-9)\n",
    "        self.activation = activation_func\n",
    "\n",
    "    def forward(self, x):\n",
    "        x = self.activation(self.fc1(x))\n",
    "        x = self.fc2(x)  # No activation here as it will be included in CrossEntropyLoss\n",
    "        return x"
   ]
  },
  {
   "cell_type": "markdown",
   "metadata": {},
   "source": [
    "## Training"
   ]
  },
  {
   "cell_type": "code",
   "execution_count": 50,
   "metadata": {},
   "outputs": [],
   "source": [
    "def train_model(model, train_loader, criterion, optimizer, num_epochs=15, print_stats=False):\n",
    "    losses = []\n",
    "    accuracies = []\n",
    "    \n",
    "    for epoch in range(num_epochs):\n",
    "        model.train()  # Set the model to training mode\n",
    "        running_loss = 0.0\n",
    "        running_corrects = 0\n",
    "        total_samples = 0\n",
    "\n",
    "        # Iterate over data\n",
    "        for inputs, labels in train_loader:\n",
    "            optimizer.zero_grad()  # Zero the parameter gradients\n",
    "\n",
    "            # Forward pass\n",
    "            outputs = model(inputs)\n",
    "            loss = criterion(outputs, labels)\n",
    "\n",
    "            # Backward and optimize\n",
    "            loss.backward()\n",
    "            optimizer.step()\n",
    "\n",
    "            # Statistics\n",
    "            _, preds = torch.max(outputs, 1)\n",
    "            running_loss += loss.item() * inputs.size(0)\n",
    "            running_corrects += torch.sum(preds == labels.data)\n",
    "            total_samples += inputs.size(0)\n",
    "\n",
    "        epoch_loss = running_loss / total_samples\n",
    "        epoch_acc = running_corrects.float() / total_samples\n",
    "\n",
    "        # Append loss and accuracy to lists\n",
    "        losses.append(epoch_loss)\n",
    "        accuracies.append(epoch_acc)\n",
    "\n",
    "        if print_stats:\n",
    "            print(f'Epoch {epoch+1}: Loss = {epoch_loss:.3f}, Accuracy = {epoch_acc:.0%}')\n",
    "    \n",
    "    return losses, accuracies\n"
   ]
  },
  {
   "cell_type": "code",
   "execution_count": 51,
   "metadata": {},
   "outputs": [
    {
     "name": "stdout",
     "output_type": "stream",
     "text": [
      "Epoch 1: Loss = 2.128, Accuracy = 48%\n",
      "Epoch 2: Loss = 1.607, Accuracy = 88%\n",
      "Epoch 3: Loss = 1.048, Accuracy = 89%\n",
      "Epoch 4: Loss = 0.662, Accuracy = 91%\n",
      "Epoch 5: Loss = 0.462, Accuracy = 92%\n",
      "Epoch 6: Loss = 0.354, Accuracy = 94%\n",
      "Epoch 7: Loss = 0.288, Accuracy = 94%\n",
      "Epoch 8: Loss = 0.244, Accuracy = 95%\n",
      "Epoch 9: Loss = 0.211, Accuracy = 96%\n",
      "Epoch 10: Loss = 0.190, Accuracy = 96%\n",
      "Epoch 11: Loss = 0.166, Accuracy = 97%\n",
      "Epoch 12: Loss = 0.153, Accuracy = 97%\n",
      "Epoch 13: Loss = 0.140, Accuracy = 98%\n",
      "Epoch 14: Loss = 0.129, Accuracy = 98%\n",
      "Epoch 15: Loss = 0.120, Accuracy = 98%\n"
     ]
    }
   ],
   "source": [
    "# Initializing the model with ReLU activation\n",
    "model = MLPNN(nn.ReLU()) # ReLU activation\n",
    "criterion = nn.CrossEntropyLoss() # Cross-entropy loss\n",
    "optimizer = torch.optim.Adam(model.parameters(), lr=0.001) # Using Adam optimizer\n",
    "relu_loss, relu_acc = train_model(model, train_loader, criterion, optimizer, num_epochs=15, print_stats=True)"
   ]
  },
  {
   "cell_type": "markdown",
   "metadata": {},
   "source": [
    "## Test set evaluation"
   ]
  },
  {
   "cell_type": "code",
   "execution_count": 52,
   "metadata": {},
   "outputs": [
    {
     "name": "stdout",
     "output_type": "stream",
     "text": [
      "Test Accuracy: 95.31%\n"
     ]
    }
   ],
   "source": [
    "def accuracy(outputs, labels):\n",
    "    _, preds = torch.max(outputs, dim=1)\n",
    "    return torch.tensor(torch.sum(preds == labels).item() / len(preds))\n",
    "\n",
    "def evaluate_model(model, test_loader):\n",
    "    model.eval()  # Set the model to evaluation mode\n",
    "    total_accuracy = 0\n",
    "\n",
    "    with torch.no_grad():  # No need to track gradients for evaluation\n",
    "        for inputs, labels in test_loader:\n",
    "            outputs = model(inputs)\n",
    "            total_accuracy += accuracy(outputs, labels)\n",
    "    \n",
    "    test_accuracy = total_accuracy / len(test_loader)  # Average the accuracy across all batches\n",
    "    print(f\"Test Accuracy: {test_accuracy:.2%}\")\n",
    "    return test_accuracy\n",
    "\n",
    "relu_test_acc = evaluate_model(model, test_loader)"
   ]
  },
  {
   "cell_type": "markdown",
   "metadata": {},
   "source": [
    "## Five Example Predictions"
   ]
  },
  {
   "cell_type": "code",
   "execution_count": 53,
   "metadata": {},
   "outputs": [
    {
     "name": "stdout",
     "output_type": "stream",
     "text": [
      "Test Image 1: Predicted Label = 4, Actual Label = 4\n",
      "Test Image 2: Predicted Label = 5, Actual Label = 5\n",
      "Test Image 3: Predicted Label = 1, Actual Label = 1\n",
      "Test Image 4: Predicted Label = 4, Actual Label = 4\n",
      "Test Image 5: Predicted Label = 1, Actual Label = 1\n"
     ]
    }
   ],
   "source": [
    "# Get some predictions to display with images\n",
    "test_predictions = []\n",
    "model.eval()\n",
    "with torch.no_grad():\n",
    "    for i in range(5):\n",
    "        img, label = test_dataset[i]\n",
    "        output = model(img.unsqueeze(0))\n",
    "        pred = output.argmax(dim=1).item()\n",
    "        test_predictions.append((img, pred, label))\n",
    "\n",
    "# Outputs of predictions\n",
    "for i, (img, pred, label) in enumerate(test_predictions, 1):\n",
    "    print(f\"Test Image {i}: Predicted Label = {pred}, Actual Label = {label}\")"
   ]
  },
  {
   "cell_type": "markdown",
   "metadata": {},
   "source": [
    "## Evaluation Using Different Activation Functions"
   ]
  },
  {
   "cell_type": "code",
   "execution_count": 55,
   "metadata": {},
   "outputs": [
    {
     "name": "stdout",
     "output_type": "stream",
     "text": [
      "Training with Tanh activation...\n",
      "Training with Sigmoid activation...\n",
      "Training with ReLU activation...\n",
      "Training with Softmax activation...\n",
      "Training with Hardshrink activation...\n"
     ]
    }
   ],
   "source": [
    "# Mapping of model configurations\n",
    "activations = {\n",
    "    \"Tanh\": nn.Tanh(),\n",
    "    \"Sigmoid\": nn.Sigmoid(),\n",
    "    \"ReLU\": nn.ReLU(),\n",
    "    \"Softmax\": nn.Softmax(dim=1),\n",
    "    \"Hardshrink\": nn.Hardshrink(),\n",
    "}\n",
    "\n",
    "# Color mapping for each activation function (for plotting later)\n",
    "color_map = {\n",
    "    \"Tanh\": \"rgba(255, 99, 132, 0.6)\",\n",
    "    \"Sigmoid\": \"rgba(54, 162, 235, 0.6)\",\n",
    "    \"ReLU\": \"rgba(255, 206, 86, 0.6)\",\n",
    "    \"Softmax\": \"rgba(153, 102, 255, 0.6)\",\n",
    "    \"Hardshrink\": \"rgba(75, 192, 192, 0.6)\",\n",
    "}\n",
    "\n",
    "# Dictionary to store results\n",
    "results = {}\n",
    "\n",
    "# Loop through each activation function, train and evaluate the model\n",
    "for name, activation_func in activations.items():\n",
    "    print(f\"Training with {name} activation...\")\n",
    "    model = MLPNN(activation_func)\n",
    "    criterion = nn.CrossEntropyLoss()\n",
    "    optimizer = torch.optim.Adam(model.parameters(), lr=0.001)\n",
    "    losses, accuracies = train_model(model, train_loader, criterion, optimizer)\n",
    "    \n",
    "    # Store results\n",
    "    results[name] = {\n",
    "        \"losses\": losses,\n",
    "        \"accuracies\": accuracies\n",
    "    }"
   ]
  },
  {
   "cell_type": "code",
   "execution_count": 56,
   "metadata": {},
   "outputs": [
    {
     "data": {
      "application/vnd.plotly.v1+json": {
       "config": {
        "plotlyServerURL": "https://plot.ly"
       },
       "data": [
        {
         "legendgroup": "Tanh",
         "line": {
          "color": "rgba(255, 99, 132, 0.6)"
         },
         "mode": "lines+markers",
         "name": "Tanh",
         "showlegend": true,
         "type": "scatter",
         "x": [
          1,
          2,
          3,
          4,
          5,
          6,
          7,
          8,
          9,
          10,
          11,
          12,
          13,
          14,
          15
         ],
         "y": [
          2.036522319437981,
          1.4270466199415628,
          0.9096358766469511,
          0.6000393926682536,
          0.4358960677951927,
          0.3418761869955992,
          0.28091115066386296,
          0.24178768757655542,
          0.21227436217692633,
          0.18767519369876956,
          0.16910599914062496,
          0.15500369883695242,
          0.14317578842595127,
          0.13204447157738022,
          0.12331514871402507
         ]
        },
        {
         "legendgroup": "Tanh",
         "line": {
          "color": "rgba(255, 99, 132, 0.6)"
         },
         "mode": "lines+markers",
         "name": "Tanh",
         "showlegend": false,
         "type": "scatter",
         "x": [
          1,
          2,
          3,
          4,
          5,
          6,
          7,
          8,
          9,
          10,
          11,
          12,
          13,
          14,
          15
         ],
         "xaxis": "x2",
         "y": [
          0.5274878144264221,
          0.855949878692627,
          0.8921363949775696,
          0.9074460864067078,
          0.924843430519104,
          0.938761293888092,
          0.9450243711471558,
          0.950591504573822,
          0.9540709853172302,
          0.9617258310317993,
          0.9672929644584656,
          0.9721642136573792,
          0.9728600978851318,
          0.9770354628562927,
          0.9805149435997009
         ],
         "yaxis": "y2"
        },
        {
         "legendgroup": "Sigmoid",
         "line": {
          "color": "rgba(54, 162, 235, 0.6)"
         },
         "mode": "lines+markers",
         "name": "Sigmoid",
         "showlegend": true,
         "type": "scatter",
         "x": [
          1,
          2,
          3,
          4,
          5,
          6,
          7,
          8,
          9,
          10,
          11,
          12,
          13,
          14,
          15
         ],
         "y": [
          2.2767142640606925,
          2.1673073745387748,
          2.0448620762357135,
          1.905683029585608,
          1.7285309266778606,
          1.5374147714470192,
          1.3417631408449835,
          1.1580496945975136,
          1.003121899081836,
          0.8773960472397615,
          0.7767051630494656,
          0.6861096879800492,
          0.6173345799154097,
          0.5576988348922716,
          0.5067548615781483
         ]
        },
        {
         "legendgroup": "Sigmoid",
         "line": {
          "color": "rgba(54, 162, 235, 0.6)"
         },
         "mode": "lines+markers",
         "name": "Sigmoid",
         "showlegend": false,
         "type": "scatter",
         "x": [
          1,
          2,
          3,
          4,
          5,
          6,
          7,
          8,
          9,
          10,
          11,
          12,
          13,
          14,
          15
         ],
         "xaxis": "x2",
         "y": [
          0.15935978293418884,
          0.40292274951934814,
          0.5608907341957092,
          0.6666666865348816,
          0.7599164843559265,
          0.8503827452659607,
          0.8246346712112427,
          0.8663883209228516,
          0.8775225877761841,
          0.8594293594360352,
          0.8879610300064087,
          0.8970076441764832,
          0.9074460864067078,
          0.9123173356056213,
          0.9185803532600403
         ],
         "yaxis": "y2"
        },
        {
         "legendgroup": "ReLU",
         "line": {
          "color": "rgba(255, 206, 86, 0.6)"
         },
         "mode": "lines+markers",
         "name": "ReLU",
         "showlegend": true,
         "type": "scatter",
         "x": [
          1,
          2,
          3,
          4,
          5,
          6,
          7,
          8,
          9,
          10,
          11,
          12,
          13,
          14,
          15
         ],
         "y": [
          2.1088292465163505,
          1.5653342280689841,
          1.008736004245389,
          0.6551179284840387,
          0.46775610996935213,
          0.364395860092625,
          0.29723506491882734,
          0.251700979941988,
          0.22032629898130354,
          0.19661619204693398,
          0.17936145941997123,
          0.1607506467948461,
          0.147930769619215,
          0.13868487681791694,
          0.13096513679521982
         ]
        },
        {
         "legendgroup": "ReLU",
         "line": {
          "color": "rgba(255, 206, 86, 0.6)"
         },
         "mode": "lines+markers",
         "name": "ReLU",
         "showlegend": false,
         "type": "scatter",
         "x": [
          1,
          2,
          3,
          4,
          5,
          6,
          7,
          8,
          9,
          10,
          11,
          12,
          13,
          14,
          15
         ],
         "xaxis": "x2",
         "y": [
          0.5114822387695312,
          0.8295059204101562,
          0.8830897808074951,
          0.893528163433075,
          0.9234516620635986,
          0.9290187954902649,
          0.9394571781158447,
          0.948503851890564,
          0.9526792168617249,
          0.9610299468040466,
          0.9652053117752075,
          0.9714683294296265,
          0.974251925945282,
          0.974251925945282,
          0.974251925945282
         ],
         "yaxis": "y2"
        },
        {
         "legendgroup": "Softmax",
         "line": {
          "color": "rgba(153, 102, 255, 0.6)"
         },
         "mode": "lines+markers",
         "name": "Softmax",
         "showlegend": true,
         "type": "scatter",
         "x": [
          1,
          2,
          3,
          4,
          5,
          6,
          7,
          8,
          9,
          10,
          11,
          12,
          13,
          14,
          15
         ],
         "y": [
          2.3020053344546048,
          2.2990923447167617,
          2.2951676201803783,
          2.2886604001809094,
          2.277320895165143,
          2.258383566584949,
          2.228676629547618,
          2.1869187655346045,
          2.1366334299951606,
          2.0824490579035686,
          2.027946754719702,
          1.9739595188726213,
          1.9226210615082424,
          1.8751211051071528,
          1.8315439804112985
         ]
        },
        {
         "legendgroup": "Softmax",
         "line": {
          "color": "rgba(153, 102, 255, 0.6)"
         },
         "mode": "lines+markers",
         "name": "Softmax",
         "showlegend": false,
         "type": "scatter",
         "x": [
          1,
          2,
          3,
          4,
          5,
          6,
          7,
          8,
          9,
          10,
          11,
          12,
          13,
          14,
          15
         ],
         "xaxis": "x2",
         "y": [
          0.10647181421518326,
          0.10647181421518326,
          0.10647181421518326,
          0.10647181421518326,
          0.12178149074316025,
          0.22407793998718262,
          0.43215030431747437,
          0.5991649031639099,
          0.6743215322494507,
          0.7167710661888123,
          0.7355601787567139,
          0.743215024471283,
          0.7418232560157776,
          0.743215024471283,
          0.7390396595001221
         ],
         "yaxis": "y2"
        },
        {
         "legendgroup": "Hardshrink",
         "line": {
          "color": "rgba(75, 192, 192, 0.6)"
         },
         "mode": "lines+markers",
         "name": "Hardshrink",
         "showlegend": true,
         "type": "scatter",
         "x": [
          1,
          2,
          3,
          4,
          5,
          6,
          7,
          8,
          9,
          10,
          11,
          12,
          13,
          14,
          15
         ],
         "y": [
          2.1222205957606506,
          1.7453980965172988,
          1.3257975478759638,
          0.9285660747363489,
          0.6605924351728037,
          0.5033751613536309,
          0.40444171932644535,
          0.34395871176102466,
          0.2939888682623414,
          0.26157843361484895,
          0.23206187379219173,
          0.21502730637145856,
          0.1999561316077711,
          0.17885309918190592,
          0.1657069478191762
         ]
        },
        {
         "legendgroup": "Hardshrink",
         "line": {
          "color": "rgba(75, 192, 192, 0.6)"
         },
         "mode": "lines+markers",
         "name": "Hardshrink",
         "showlegend": false,
         "type": "scatter",
         "x": [
          1,
          2,
          3,
          4,
          5,
          6,
          7,
          8,
          9,
          10,
          11,
          12,
          13,
          14,
          15
         ],
         "xaxis": "x2",
         "y": [
          0.4745998680591583,
          0.7620041966438293,
          0.8761308193206787,
          0.9004871249198914,
          0.9102296233177185,
          0.9192762970924377,
          0.9283229112625122,
          0.9408490061759949,
          0.9464161396026611,
          0.9491997361183167,
          0.9575504660606384,
          0.9561586380004883,
          0.9610299468040466,
          0.9610299468040466,
          0.9693806767463684
         ],
         "yaxis": "y2"
        }
       ],
       "layout": {
        "height": 600,
        "legend": {
         "x": 1.05,
         "xanchor": "left",
         "y": 0.5,
         "yanchor": "middle"
        },
        "template": {
         "data": {
          "bar": [
           {
            "error_x": {
             "color": "#2a3f5f"
            },
            "error_y": {
             "color": "#2a3f5f"
            },
            "marker": {
             "line": {
              "color": "#E5ECF6",
              "width": 0.5
             },
             "pattern": {
              "fillmode": "overlay",
              "size": 10,
              "solidity": 0.2
             }
            },
            "type": "bar"
           }
          ],
          "barpolar": [
           {
            "marker": {
             "line": {
              "color": "#E5ECF6",
              "width": 0.5
             },
             "pattern": {
              "fillmode": "overlay",
              "size": 10,
              "solidity": 0.2
             }
            },
            "type": "barpolar"
           }
          ],
          "carpet": [
           {
            "aaxis": {
             "endlinecolor": "#2a3f5f",
             "gridcolor": "white",
             "linecolor": "white",
             "minorgridcolor": "white",
             "startlinecolor": "#2a3f5f"
            },
            "baxis": {
             "endlinecolor": "#2a3f5f",
             "gridcolor": "white",
             "linecolor": "white",
             "minorgridcolor": "white",
             "startlinecolor": "#2a3f5f"
            },
            "type": "carpet"
           }
          ],
          "choropleth": [
           {
            "colorbar": {
             "outlinewidth": 0,
             "ticks": ""
            },
            "type": "choropleth"
           }
          ],
          "contour": [
           {
            "colorbar": {
             "outlinewidth": 0,
             "ticks": ""
            },
            "colorscale": [
             [
              0,
              "#0d0887"
             ],
             [
              0.1111111111111111,
              "#46039f"
             ],
             [
              0.2222222222222222,
              "#7201a8"
             ],
             [
              0.3333333333333333,
              "#9c179e"
             ],
             [
              0.4444444444444444,
              "#bd3786"
             ],
             [
              0.5555555555555556,
              "#d8576b"
             ],
             [
              0.6666666666666666,
              "#ed7953"
             ],
             [
              0.7777777777777778,
              "#fb9f3a"
             ],
             [
              0.8888888888888888,
              "#fdca26"
             ],
             [
              1,
              "#f0f921"
             ]
            ],
            "type": "contour"
           }
          ],
          "contourcarpet": [
           {
            "colorbar": {
             "outlinewidth": 0,
             "ticks": ""
            },
            "type": "contourcarpet"
           }
          ],
          "heatmap": [
           {
            "colorbar": {
             "outlinewidth": 0,
             "ticks": ""
            },
            "colorscale": [
             [
              0,
              "#0d0887"
             ],
             [
              0.1111111111111111,
              "#46039f"
             ],
             [
              0.2222222222222222,
              "#7201a8"
             ],
             [
              0.3333333333333333,
              "#9c179e"
             ],
             [
              0.4444444444444444,
              "#bd3786"
             ],
             [
              0.5555555555555556,
              "#d8576b"
             ],
             [
              0.6666666666666666,
              "#ed7953"
             ],
             [
              0.7777777777777778,
              "#fb9f3a"
             ],
             [
              0.8888888888888888,
              "#fdca26"
             ],
             [
              1,
              "#f0f921"
             ]
            ],
            "type": "heatmap"
           }
          ],
          "heatmapgl": [
           {
            "colorbar": {
             "outlinewidth": 0,
             "ticks": ""
            },
            "colorscale": [
             [
              0,
              "#0d0887"
             ],
             [
              0.1111111111111111,
              "#46039f"
             ],
             [
              0.2222222222222222,
              "#7201a8"
             ],
             [
              0.3333333333333333,
              "#9c179e"
             ],
             [
              0.4444444444444444,
              "#bd3786"
             ],
             [
              0.5555555555555556,
              "#d8576b"
             ],
             [
              0.6666666666666666,
              "#ed7953"
             ],
             [
              0.7777777777777778,
              "#fb9f3a"
             ],
             [
              0.8888888888888888,
              "#fdca26"
             ],
             [
              1,
              "#f0f921"
             ]
            ],
            "type": "heatmapgl"
           }
          ],
          "histogram": [
           {
            "marker": {
             "pattern": {
              "fillmode": "overlay",
              "size": 10,
              "solidity": 0.2
             }
            },
            "type": "histogram"
           }
          ],
          "histogram2d": [
           {
            "colorbar": {
             "outlinewidth": 0,
             "ticks": ""
            },
            "colorscale": [
             [
              0,
              "#0d0887"
             ],
             [
              0.1111111111111111,
              "#46039f"
             ],
             [
              0.2222222222222222,
              "#7201a8"
             ],
             [
              0.3333333333333333,
              "#9c179e"
             ],
             [
              0.4444444444444444,
              "#bd3786"
             ],
             [
              0.5555555555555556,
              "#d8576b"
             ],
             [
              0.6666666666666666,
              "#ed7953"
             ],
             [
              0.7777777777777778,
              "#fb9f3a"
             ],
             [
              0.8888888888888888,
              "#fdca26"
             ],
             [
              1,
              "#f0f921"
             ]
            ],
            "type": "histogram2d"
           }
          ],
          "histogram2dcontour": [
           {
            "colorbar": {
             "outlinewidth": 0,
             "ticks": ""
            },
            "colorscale": [
             [
              0,
              "#0d0887"
             ],
             [
              0.1111111111111111,
              "#46039f"
             ],
             [
              0.2222222222222222,
              "#7201a8"
             ],
             [
              0.3333333333333333,
              "#9c179e"
             ],
             [
              0.4444444444444444,
              "#bd3786"
             ],
             [
              0.5555555555555556,
              "#d8576b"
             ],
             [
              0.6666666666666666,
              "#ed7953"
             ],
             [
              0.7777777777777778,
              "#fb9f3a"
             ],
             [
              0.8888888888888888,
              "#fdca26"
             ],
             [
              1,
              "#f0f921"
             ]
            ],
            "type": "histogram2dcontour"
           }
          ],
          "mesh3d": [
           {
            "colorbar": {
             "outlinewidth": 0,
             "ticks": ""
            },
            "type": "mesh3d"
           }
          ],
          "parcoords": [
           {
            "line": {
             "colorbar": {
              "outlinewidth": 0,
              "ticks": ""
             }
            },
            "type": "parcoords"
           }
          ],
          "pie": [
           {
            "automargin": true,
            "type": "pie"
           }
          ],
          "scatter": [
           {
            "fillpattern": {
             "fillmode": "overlay",
             "size": 10,
             "solidity": 0.2
            },
            "type": "scatter"
           }
          ],
          "scatter3d": [
           {
            "line": {
             "colorbar": {
              "outlinewidth": 0,
              "ticks": ""
             }
            },
            "marker": {
             "colorbar": {
              "outlinewidth": 0,
              "ticks": ""
             }
            },
            "type": "scatter3d"
           }
          ],
          "scattercarpet": [
           {
            "marker": {
             "colorbar": {
              "outlinewidth": 0,
              "ticks": ""
             }
            },
            "type": "scattercarpet"
           }
          ],
          "scattergeo": [
           {
            "marker": {
             "colorbar": {
              "outlinewidth": 0,
              "ticks": ""
             }
            },
            "type": "scattergeo"
           }
          ],
          "scattergl": [
           {
            "marker": {
             "colorbar": {
              "outlinewidth": 0,
              "ticks": ""
             }
            },
            "type": "scattergl"
           }
          ],
          "scattermapbox": [
           {
            "marker": {
             "colorbar": {
              "outlinewidth": 0,
              "ticks": ""
             }
            },
            "type": "scattermapbox"
           }
          ],
          "scatterpolar": [
           {
            "marker": {
             "colorbar": {
              "outlinewidth": 0,
              "ticks": ""
             }
            },
            "type": "scatterpolar"
           }
          ],
          "scatterpolargl": [
           {
            "marker": {
             "colorbar": {
              "outlinewidth": 0,
              "ticks": ""
             }
            },
            "type": "scatterpolargl"
           }
          ],
          "scatterternary": [
           {
            "marker": {
             "colorbar": {
              "outlinewidth": 0,
              "ticks": ""
             }
            },
            "type": "scatterternary"
           }
          ],
          "surface": [
           {
            "colorbar": {
             "outlinewidth": 0,
             "ticks": ""
            },
            "colorscale": [
             [
              0,
              "#0d0887"
             ],
             [
              0.1111111111111111,
              "#46039f"
             ],
             [
              0.2222222222222222,
              "#7201a8"
             ],
             [
              0.3333333333333333,
              "#9c179e"
             ],
             [
              0.4444444444444444,
              "#bd3786"
             ],
             [
              0.5555555555555556,
              "#d8576b"
             ],
             [
              0.6666666666666666,
              "#ed7953"
             ],
             [
              0.7777777777777778,
              "#fb9f3a"
             ],
             [
              0.8888888888888888,
              "#fdca26"
             ],
             [
              1,
              "#f0f921"
             ]
            ],
            "type": "surface"
           }
          ],
          "table": [
           {
            "cells": {
             "fill": {
              "color": "#EBF0F8"
             },
             "line": {
              "color": "white"
             }
            },
            "header": {
             "fill": {
              "color": "#C8D4E3"
             },
             "line": {
              "color": "white"
             }
            },
            "type": "table"
           }
          ]
         },
         "layout": {
          "annotationdefaults": {
           "arrowcolor": "#2a3f5f",
           "arrowhead": 0,
           "arrowwidth": 1
          },
          "autotypenumbers": "strict",
          "coloraxis": {
           "colorbar": {
            "outlinewidth": 0,
            "ticks": ""
           }
          },
          "colorscale": {
           "diverging": [
            [
             0,
             "#8e0152"
            ],
            [
             0.1,
             "#c51b7d"
            ],
            [
             0.2,
             "#de77ae"
            ],
            [
             0.3,
             "#f1b6da"
            ],
            [
             0.4,
             "#fde0ef"
            ],
            [
             0.5,
             "#f7f7f7"
            ],
            [
             0.6,
             "#e6f5d0"
            ],
            [
             0.7,
             "#b8e186"
            ],
            [
             0.8,
             "#7fbc41"
            ],
            [
             0.9,
             "#4d9221"
            ],
            [
             1,
             "#276419"
            ]
           ],
           "sequential": [
            [
             0,
             "#0d0887"
            ],
            [
             0.1111111111111111,
             "#46039f"
            ],
            [
             0.2222222222222222,
             "#7201a8"
            ],
            [
             0.3333333333333333,
             "#9c179e"
            ],
            [
             0.4444444444444444,
             "#bd3786"
            ],
            [
             0.5555555555555556,
             "#d8576b"
            ],
            [
             0.6666666666666666,
             "#ed7953"
            ],
            [
             0.7777777777777778,
             "#fb9f3a"
            ],
            [
             0.8888888888888888,
             "#fdca26"
            ],
            [
             1,
             "#f0f921"
            ]
           ],
           "sequentialminus": [
            [
             0,
             "#0d0887"
            ],
            [
             0.1111111111111111,
             "#46039f"
            ],
            [
             0.2222222222222222,
             "#7201a8"
            ],
            [
             0.3333333333333333,
             "#9c179e"
            ],
            [
             0.4444444444444444,
             "#bd3786"
            ],
            [
             0.5555555555555556,
             "#d8576b"
            ],
            [
             0.6666666666666666,
             "#ed7953"
            ],
            [
             0.7777777777777778,
             "#fb9f3a"
            ],
            [
             0.8888888888888888,
             "#fdca26"
            ],
            [
             1,
             "#f0f921"
            ]
           ]
          },
          "colorway": [
           "#636efa",
           "#EF553B",
           "#00cc96",
           "#ab63fa",
           "#FFA15A",
           "#19d3f3",
           "#FF6692",
           "#B6E880",
           "#FF97FF",
           "#FECB52"
          ],
          "font": {
           "color": "#2a3f5f"
          },
          "geo": {
           "bgcolor": "white",
           "lakecolor": "white",
           "landcolor": "#E5ECF6",
           "showlakes": true,
           "showland": true,
           "subunitcolor": "white"
          },
          "hoverlabel": {
           "align": "left"
          },
          "hovermode": "closest",
          "mapbox": {
           "style": "light"
          },
          "paper_bgcolor": "white",
          "plot_bgcolor": "#E5ECF6",
          "polar": {
           "angularaxis": {
            "gridcolor": "white",
            "linecolor": "white",
            "ticks": ""
           },
           "bgcolor": "#E5ECF6",
           "radialaxis": {
            "gridcolor": "white",
            "linecolor": "white",
            "ticks": ""
           }
          },
          "scene": {
           "xaxis": {
            "backgroundcolor": "#E5ECF6",
            "gridcolor": "white",
            "gridwidth": 2,
            "linecolor": "white",
            "showbackground": true,
            "ticks": "",
            "zerolinecolor": "white"
           },
           "yaxis": {
            "backgroundcolor": "#E5ECF6",
            "gridcolor": "white",
            "gridwidth": 2,
            "linecolor": "white",
            "showbackground": true,
            "ticks": "",
            "zerolinecolor": "white"
           },
           "zaxis": {
            "backgroundcolor": "#E5ECF6",
            "gridcolor": "white",
            "gridwidth": 2,
            "linecolor": "white",
            "showbackground": true,
            "ticks": "",
            "zerolinecolor": "white"
           }
          },
          "shapedefaults": {
           "line": {
            "color": "#2a3f5f"
           }
          },
          "ternary": {
           "aaxis": {
            "gridcolor": "white",
            "linecolor": "white",
            "ticks": ""
           },
           "baxis": {
            "gridcolor": "white",
            "linecolor": "white",
            "ticks": ""
           },
           "bgcolor": "#E5ECF6",
           "caxis": {
            "gridcolor": "white",
            "linecolor": "white",
            "ticks": ""
           }
          },
          "title": {
           "x": 0.05
          },
          "xaxis": {
           "automargin": true,
           "gridcolor": "white",
           "linecolor": "white",
           "ticks": "",
           "title": {
            "standoff": 15
           },
           "zerolinecolor": "white",
           "zerolinewidth": 2
          },
          "yaxis": {
           "automargin": true,
           "gridcolor": "white",
           "linecolor": "white",
           "ticks": "",
           "title": {
            "standoff": 15
           },
           "zerolinecolor": "white",
           "zerolinewidth": 2
          }
         }
        },
        "title": {
         "text": "Training Results: Loss and Accuracy"
        },
        "xaxis": {
         "domain": [
          0,
          0.45
         ],
         "title": {
          "text": "Epoch"
         }
        },
        "xaxis2": {
         "domain": [
          0.55,
          1
         ],
         "title": {
          "text": "Epoch"
         }
        },
        "yaxis": {
         "title": {
          "text": "Loss"
         }
        },
        "yaxis2": {
         "anchor": "x2",
         "title": {
          "text": "Accuracy (%)"
         }
        }
       }
      }
     },
     "metadata": {},
     "output_type": "display_data"
    }
   ],
   "source": [
    "import plotly.graph_objects as go\n",
    "\n",
    "def plot_training_results(results, colors):\n",
    "    \"\"\"\n",
    "    Plots the training results showing both loss and accuracy for each model configuration using Plotly.\n",
    "    Each activation function is represented by a single color across both plots, with a single legend entry.\n",
    "\n",
    "    Parameters:\n",
    "        results (dict): A dictionary where each key is a model name and each value is another\n",
    "                        dictionary with keys 'losses' and 'accuracies', which are lists of\n",
    "                        values for each epoch.\n",
    "    \"\"\"\n",
    "    if not results:\n",
    "        print(\"No results to display.\")\n",
    "        return\n",
    "\n",
    "    # Determine the number of epochs from the first entry in the results\n",
    "    epochs = list(range(1, len(next(iter(results.values()))['losses']) + 1))\n",
    "\n",
    "    # Create figures for loss and accuracy\n",
    "    fig = go.Figure()\n",
    "\n",
    "    # Adding Loss and Accuracy Traces\n",
    "    for name, data in results.items():\n",
    "        fig.add_trace(go.Scatter(\n",
    "            x=epochs, y=data['losses'],\n",
    "            mode='lines+markers',\n",
    "            name=name,\n",
    "            line=dict(color=colors[name]),\n",
    "            legendgroup=name,  # Group by name for single legend entry\n",
    "            showlegend=True\n",
    "        ))\n",
    "        fig.add_trace(go.Scatter(\n",
    "            x=epochs, y=data['accuracies'],\n",
    "            mode='lines+markers',\n",
    "            name=name,\n",
    "            line=dict(color=colors[name]),\n",
    "            xaxis='x2',\n",
    "            yaxis='y2',\n",
    "            legendgroup=name,  # Group by name for single legend entry\n",
    "            showlegend=False  # Hide legend for accuracy to avoid duplicate entries\n",
    "        ))\n",
    "\n",
    "    # Update layout for a subplot appearance with legend on the right\n",
    "    fig.update_layout(\n",
    "        title='Training Results: Loss and Accuracy',\n",
    "        xaxis=dict(title='Epoch', domain=[0, 0.45]),\n",
    "        yaxis=dict(title='Loss'),\n",
    "        xaxis2=dict(title='Epoch', domain=[0.55, 1]),\n",
    "        yaxis2=dict(title='Accuracy (%)', anchor='x2'),\n",
    "        legend=dict(\n",
    "            x=1.05,\n",
    "            xanchor='left',\n",
    "            y=0.5,\n",
    "            yanchor='middle'\n",
    "        ),\n",
    "        height=600\n",
    "    )\n",
    "\n",
    "    fig.show()\n",
    "\n",
    "plot_training_results(results, color_map)"
   ]
  }
 ],
 "metadata": {
  "kernelspec": {
   "display_name": "AIML231",
   "language": "python",
   "name": "python3"
  },
  "language_info": {
   "codemirror_mode": {
    "name": "ipython",
    "version": 3
   },
   "file_extension": ".py",
   "mimetype": "text/x-python",
   "name": "python",
   "nbconvert_exporter": "python",
   "pygments_lexer": "ipython3",
   "version": "3.12.2"
  }
 },
 "nbformat": 4,
 "nbformat_minor": 2
}
