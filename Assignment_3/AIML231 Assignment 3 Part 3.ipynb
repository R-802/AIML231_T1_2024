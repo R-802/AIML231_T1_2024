{
 "cells": [
  {
   "cell_type": "markdown",
   "metadata": {},
   "source": [
    "# AIML231 Assignment 3 | Part Three\n",
    "> Shemaiah Rangitaawa `300601546`"
   ]
  },
  {
   "cell_type": "markdown",
   "metadata": {},
   "source": [
    "# Part Three | Neural Networks"
   ]
  },
  {
   "cell_type": "code",
   "execution_count": 1,
   "metadata": {},
   "outputs": [
    {
     "name": "stdout",
     "output_type": "stream",
     "text": [
      "Device: cuda\n",
      "GPU: NVIDIA GeForce RTX 2070\n",
      "CUDA version: 12.1\n",
      "Total Memory (GB): 8.589606912\n",
      "Number of GPUs: 1\n"
     ]
    }
   ],
   "source": [
    "import torch\n",
    "\n",
    "device = torch.device(\"cuda\" if torch.cuda.is_available() else \"cpu\")\n",
    "\n",
    "if device.type == 'cuda':\n",
    "    print('Device:', device)\n",
    "    print('GPU:', torch.cuda.get_device_name(0))\n",
    "    print('CUDA version:', torch.version.cuda)\n",
    "    print('Total Memory (GB):', torch.cuda.get_device_properties(\n",
    "        0).total_memory / 1e9)  # Convert bytes to GB\n",
    "    print('Number of GPUs:', torch.cuda.device_count())\n",
    "else:\n",
    "    print('CUDA is not available')"
   ]
  },
  {
   "cell_type": "code",
   "execution_count": 2,
   "metadata": {},
   "outputs": [],
   "source": [
    "from sklearn.datasets import load_digits\n",
    "from sklearn.model_selection import train_test_split\n",
    "from sklearn.preprocessing import MinMaxScaler\n",
    "from torch.utils.data import TensorDataset, DataLoader\n",
    "\n",
    "# Load and split the dataset\n",
    "digits = load_digits()\n",
    "X_train, X_test, y_train, y_test = train_test_split(\n",
    "    digits.data, digits.target, test_size=0.2, random_state=231)\n",
    "\n",
    "# Normalize data\n",
    "scaler = MinMaxScaler()\n",
    "X_train_scaled = scaler.fit_transform(X_train)\n",
    "X_test_scaled = scaler.transform(X_test)\n",
    "\n",
    "# Convert to PyTorch tensors\n",
    "X_train_tensor = torch.tensor(X_train_scaled, dtype=torch.float32)\n",
    "y_train_tensor = torch.tensor(y_train, dtype=torch.long)\n",
    "X_test_tensor = torch.tensor(X_test_scaled, dtype=torch.float32)\n",
    "y_test_tensor = torch.tensor(y_test, dtype=torch.long)\n",
    "\n",
    "# Create DataLoader objects\n",
    "train_dataset = TensorDataset(X_train_tensor, y_train_tensor)\n",
    "test_dataset = TensorDataset(X_test_tensor, y_test_tensor)\n",
    "train_loader = DataLoader(train_dataset, batch_size=64, shuffle=True)\n",
    "test_loader = DataLoader(test_dataset, batch_size=64, shuffle=False)"
   ]
  },
  {
   "cell_type": "markdown",
   "metadata": {},
   "source": [
    "## Network Definition"
   ]
  },
  {
   "cell_type": "code",
   "execution_count": 3,
   "metadata": {},
   "outputs": [],
   "source": [
    "import torch\n",
    "import torch.nn as nn\n",
    "\n",
    "\n",
    "class MLPNN(nn.Module):\n",
    "    def __init__(self, input_size=64, num_classes=10, layers=[256], activation_func=nn.ReLU()):\n",
    "        super(MLPNN, self).__init__()\n",
    "        self.layers = nn.ModuleList()\n",
    "\n",
    "        # Create layers based on the layers list\n",
    "        layer_sizes = [input_size] + layers\n",
    "        for i in range(len(layer_sizes) - 1):\n",
    "            self.layers.append(nn.Linear(layer_sizes[i], layer_sizes[i+1]))\n",
    "\n",
    "        # Output layerF\n",
    "        self.layers.append(nn.Linear(layer_sizes[-1], num_classes))\n",
    "        self.activation = activation_func\n",
    "\n",
    "    def forward(self, x):\n",
    "        for layer in self.layers[:-1]:\n",
    "            x = self.activation(layer(x))\n",
    "        # No activation here as it will be included in CrossEntropyLoss\n",
    "        x = self.layers[-1](x)\n",
    "        return x"
   ]
  },
  {
   "cell_type": "markdown",
   "metadata": {},
   "source": [
    "## Training"
   ]
  },
  {
   "cell_type": "code",
   "execution_count": 4,
   "metadata": {},
   "outputs": [],
   "source": [
    "def train_model(model, train_loader, criterion, optimizer, num_epochs=15, print_stats=False):\n",
    "    losses = []\n",
    "    accuracies = []\n",
    "\n",
    "    for epoch in range(num_epochs):\n",
    "        model.train()  # Set the model to training mode\n",
    "        running_loss = 0.0\n",
    "        running_corrects = 0\n",
    "        total_samples = 0\n",
    "\n",
    "        # Iterate over data\n",
    "        for inputs, labels in train_loader:\n",
    "            optimizer.zero_grad()  # Zero the parameter gradients\n",
    "\n",
    "            # Forward pass\n",
    "            outputs = model(inputs)\n",
    "            loss = criterion(outputs, labels)\n",
    "\n",
    "            # Backward and optimize\n",
    "            loss.backward()\n",
    "            optimizer.step()\n",
    "\n",
    "            # Statistics\n",
    "            _, preds = torch.max(outputs, 1)\n",
    "            running_loss += loss.item() * inputs.size(0)\n",
    "            running_corrects += torch.sum(preds == labels.data)\n",
    "            total_samples += inputs.size(0)\n",
    "\n",
    "        epoch_loss = running_loss / total_samples\n",
    "        epoch_acc = running_corrects.float() / total_samples\n",
    "\n",
    "        # Append loss and accuracy to lists\n",
    "        losses.append(epoch_loss)\n",
    "        accuracies.append(epoch_acc)\n",
    "\n",
    "        if print_stats:\n",
    "            print(\n",
    "                f'Epoch {epoch+1}: Loss = {epoch_loss:.3f}, Accuracy = {epoch_acc:.0%}')\n",
    "\n",
    "    return losses, accuracies"
   ]
  },
  {
   "cell_type": "code",
   "execution_count": 5,
   "metadata": {},
   "outputs": [
    {
     "name": "stdout",
     "output_type": "stream",
     "text": [
      "Epoch 1: Loss = 2.101, Accuracy = 54%\n",
      "Epoch 2: Loss = 1.570, Accuracy = 86%\n",
      "Epoch 3: Loss = 1.020, Accuracy = 89%\n",
      "Epoch 4: Loss = 0.651, Accuracy = 91%\n",
      "Epoch 5: Loss = 0.458, Accuracy = 92%\n",
      "Epoch 6: Loss = 0.356, Accuracy = 93%\n",
      "Epoch 7: Loss = 0.288, Accuracy = 95%\n",
      "Epoch 8: Loss = 0.244, Accuracy = 96%\n",
      "Epoch 9: Loss = 0.215, Accuracy = 96%\n",
      "Epoch 10: Loss = 0.190, Accuracy = 96%\n",
      "Epoch 11: Loss = 0.170, Accuracy = 97%\n",
      "Epoch 12: Loss = 0.156, Accuracy = 97%\n",
      "Epoch 13: Loss = 0.140, Accuracy = 98%\n",
      "Epoch 14: Loss = 0.129, Accuracy = 98%\n",
      "Epoch 15: Loss = 0.123, Accuracy = 98%\n"
     ]
    }
   ],
   "source": [
    "model = MLPNN(activation_func=nn.ReLU())  # ReLU activation\n",
    "criterion = nn.CrossEntropyLoss()  # Cross entropy loss\n",
    "optimizer = torch.optim.Adam(\n",
    "    model.parameters(), lr=0.001)  # Using Adam optimizer\n",
    "relu_loss, relu_acc = train_model(\n",
    "    model, train_loader, criterion, optimizer, num_epochs=15, print_stats=True)"
   ]
  },
  {
   "cell_type": "markdown",
   "metadata": {},
   "source": [
    "## Test set evaluation"
   ]
  },
  {
   "cell_type": "code",
   "execution_count": 6,
   "metadata": {},
   "outputs": [
    {
     "name": "stdout",
     "output_type": "stream",
     "text": [
      "Test Accuracy: 95.83%\n"
     ]
    }
   ],
   "source": [
    "def accuracy(outputs, labels):\n",
    "    _, preds = torch.max(outputs, dim=1)\n",
    "    return torch.tensor(torch.sum(preds == labels).item() / len(preds))\n",
    "\n",
    "\n",
    "def evaluate_model(model, test_loader):\n",
    "    model.eval()\n",
    "    total_accuracy = 0\n",
    "\n",
    "    with torch.no_grad():  # No need to track gradients for evaluation\n",
    "        for inputs, labels in test_loader:\n",
    "            outputs = model(inputs)\n",
    "            total_accuracy += accuracy(outputs, labels)\n",
    "\n",
    "    # Average the accuracy across all batches\n",
    "    test_accuracy = total_accuracy / len(test_loader)\n",
    "    print(f\"Test Accuracy: {test_accuracy:.2%}\")\n",
    "    return test_accuracy\n",
    "\n",
    "\n",
    "relu_test_acc = evaluate_model(model, test_loader)"
   ]
  },
  {
   "cell_type": "markdown",
   "metadata": {},
   "source": [
    "## Five Example Predictions"
   ]
  },
  {
   "cell_type": "code",
   "execution_count": 7,
   "metadata": {},
   "outputs": [
    {
     "name": "stdout",
     "output_type": "stream",
     "text": [
      "Test Image 0: Predicted Label: 4, Actual Label: 4\n",
      "Test Image 1: Predicted Label: 5, Actual Label: 5\n",
      "Test Image 2: Predicted Label: 1, Actual Label: 1\n",
      "Test Image 3: Predicted Label: 4, Actual Label: 4\n",
      "Test Image 4: Predicted Label: 1, Actual Label: 1\n"
     ]
    },
    {
     "data": {
      "image/png": "[encoded data removed]",
      "text/plain": [
       "<Figure size 1600x500 with 5 Axes>"
      ]
     },
     "metadata": {},
     "output_type": "display_data"
    }
   ],
   "source": [
    "import matplotlib.pyplot as plt\n",
    "import torch\n",
    "\n",
    "model.eval()\n",
    "\n",
    "test_predictions = []\n",
    "with torch.no_grad():\n",
    "    for i in range(5):  # 5 images\n",
    "        img, label = test_dataset[i]\n",
    "        if img.dim() == 1:\n",
    "            img = img.view(8, 8)\n",
    "\n",
    "        img_flat = img.view(-1)\n",
    "        output = model(img_flat.unsqueeze(0))\n",
    "        pred = output.argmax(dim=1).item()\n",
    "        test_predictions.append((img, pred, label))\n",
    "\n",
    "fig, axes = plt.subplots(1, 5, figsize=(16, 5))\n",
    "fig.suptitle('Test Images with Predictions')\n",
    "\n",
    "for i, (img, pred, label) in enumerate(test_predictions):\n",
    "    ax = axes[i]\n",
    "    ax.imshow(img.numpy(), cmap='gray')\n",
    "    ax.set_title(f\"Pred: {pred}\\nActual: {label}\")\n",
    "    print(f\"Test Image {i}: Predicted Label: {pred}, Actual Label: {label}\")\n",
    "    ax.axis('off')\n",
    "\n",
    "plt.tight_layout()\n",
    "plt.show()"
   ]
  },
  {
   "cell_type": "markdown",
   "metadata": {},
   "source": [
    "## Experimentation with Different Activation Functions"
   ]
  },
  {
   "cell_type": "code",
   "execution_count": 8,
   "metadata": {},
   "outputs": [
    {
     "name": "stdout",
     "output_type": "stream",
     "text": [
      "Training with Tanh activation...\n",
      "Test Accuracy: 95.57%\n",
      "\n",
      "Training with Sigmoid activation...\n",
      "Test Accuracy: 91.25%\n",
      "\n",
      "Training with ReLU activation...\n",
      "Test Accuracy: 95.05%\n",
      "\n",
      "Training with Hardshrink activation...\n",
      "Test Accuracy: 94.37%\n",
      "\n"
     ]
    }
   ],
   "source": [
    "# Mapping of model configurations\n",
    "activations = {\n",
    "    \"Tanh\": nn.Tanh(),\n",
    "    \"Sigmoid\": nn.Sigmoid(),\n",
    "    \"ReLU\": nn.ReLU(),\n",
    "    \"Hardshrink\": nn.Hardshrink(),\n",
    "}\n",
    "\n",
    "# Color mapping for each activation function (for plotting later)\n",
    "color_map = {\n",
    "    \"Tanh\": \"rgba(255, 99, 132, 0.6)\",\n",
    "    \"Sigmoid\": \"rgba(54, 162, 235, 0.6)\",\n",
    "    \"ReLU\": \"rgba(255, 206, 86, 0.6)\",\n",
    "    \"Hardshrink\": \"rgba(75, 192, 192, 0.6)\",\n",
    "}\n",
    "\n",
    "# Dictionary to store results\n",
    "results = {}\n",
    "\n",
    "# Loop through each activation function, train and evaluate the model\n",
    "for name, func in activations.items():\n",
    "    print(f\"Training with {name} activation...\")\n",
    "    model = MLPNN(activation_func=func)\n",
    "    criterion = nn.CrossEntropyLoss()\n",
    "    optimizer = torch.optim.Adam(model.parameters(), lr=0.001)\n",
    "    losses, accuracies = train_model(model, train_loader, criterion, optimizer)\n",
    "    evaluate_model(model, test_loader)  # Print test accuracy\n",
    "    print()\n",
    "\n",
    "    # Store results\n",
    "    results[name] = {\n",
    "        \"losses\": losses,\n",
    "        \"accuracies\": accuracies\n",
    "    }"
   ]
  },
  {
   "cell_type": "markdown",
   "metadata": {},
   "source": [
    "> Plotting function definition"
   ]
  },
  {
   "cell_type": "code",
   "execution_count": 9,
   "metadata": {},
   "outputs": [
    {
     "data": {
      "application/vnd.plotly.v1+json": {
       "config": {
        "plotlyServerURL": "https://plot.ly"
       },
       "data": [
        {
         "legendgroup": "Tanh",
         "line": {
          "color": "rgba(255, 99, 132, 0.6)"
         },
         "mode": "lines+markers",
         "name": "Tanh",
         "showlegend": true,
         "type": "scatter",
         "x": [
          1,
          2,
          3,
          4,
          5,
          6,
          7,
          8,
          9,
          10,
          11,
          12,
          13,
          14,
          15
         ],
         "y": [
          2.0156837330979447,
          1.3963581984791393,
          0.8899086104056532,
          0.58597732266371,
          0.42436228378331736,
          0.331690906337673,
          0.27425130067306336,
          0.23539325912212777,
          0.2055648717725949,
          0.1844189973987468,
          0.16544828421346164,
          0.15154013386101214,
          0.1398120343182223,
          0.13000969376697588,
          0.1212713126256471
         ]
        },
        {
         "legendgroup": "Tanh",
         "line": {
          "color": "rgba(255, 99, 132, 0.6)"
         },
         "mode": "lines+markers",
         "name": "Tanh",
         "showlegend": false,
         "type": "scatter",
         "x": [
          1,
          2,
          3,
          4,
          5,
          6,
          7,
          8,
          9,
          10,
          11,
          12,
          13,
          14,
          15
         ],
         "xaxis": "x2",
         "y": [
          0.569241464138031,
          0.8789144158363342,
          0.8900487422943115,
          0.9144049882888794,
          0.931106448173523,
          0.9422407746315002,
          0.9498956203460693,
          0.9540709853172302,
          0.9582463502883911,
          0.9638134837150574,
          0.9645093679428101,
          0.9728600978851318,
          0.97633957862854,
          0.97633957862854,
          0.9777314066886902
         ],
         "yaxis": "y2"
        },
        {
         "legendgroup": "Sigmoid",
         "line": {
          "color": "rgba(54, 162, 235, 0.6)"
         },
         "mode": "lines+markers",
         "name": "Sigmoid",
         "showlegend": true,
         "type": "scatter",
         "x": [
          1,
          2,
          3,
          4,
          5,
          6,
          7,
          8,
          9,
          10,
          11,
          12,
          13,
          14,
          15
         ],
         "y": [
          2.282732699260831,
          2.1683146306517727,
          2.0450520584296252,
          1.9073257316046484,
          1.7441199778183185,
          1.5604979953752596,
          1.3802821447887434,
          1.2016529161729328,
          1.0503901143246586,
          0.9179786773464625,
          0.8070991827782941,
          0.723860371295329,
          0.6478371433939631,
          0.583811104857598,
          0.5307899231950525
         ]
        },
        {
         "legendgroup": "Sigmoid",
         "line": {
          "color": "rgba(54, 162, 235, 0.6)"
         },
         "mode": "lines+markers",
         "name": "Sigmoid",
         "showlegend": false,
         "type": "scatter",
         "x": [
          1,
          2,
          3,
          4,
          5,
          6,
          7,
          8,
          9,
          10,
          11,
          12,
          13,
          14,
          15
         ],
         "xaxis": "x2",
         "y": [
          0.14544188976287842,
          0.34585943818092346,
          0.6179540753364563,
          0.6812804341316223,
          0.7981906533241272,
          0.8093249797821045,
          0.7974947690963745,
          0.8427278995513916,
          0.863604724407196,
          0.8698678016662598,
          0.8851774334907532,
          0.8851774334907532,
          0.8942241072654724,
          0.9081419706344604,
          0.9178844690322876
         ],
         "yaxis": "y2"
        },
        {
         "legendgroup": "ReLU",
         "line": {
          "color": "rgba(255, 206, 86, 0.6)"
         },
         "mode": "lines+markers",
         "name": "ReLU",
         "showlegend": true,
         "type": "scatter",
         "x": [
          1,
          2,
          3,
          4,
          5,
          6,
          7,
          8,
          9,
          10,
          11,
          12,
          13,
          14,
          15
         ],
         "y": [
          2.118081763625228,
          1.5795824548479742,
          1.0031218002799822,
          0.6367978201861504,
          0.4452541592059736,
          0.3459937111860194,
          0.2836365695309125,
          0.24041643711785599,
          0.2100854761011914,
          0.18668978518716312,
          0.16778879678531414,
          0.1526601476622026,
          0.14144742799950044,
          0.12899949947578176,
          0.11911580902922875
         ]
        },
        {
         "legendgroup": "ReLU",
         "line": {
          "color": "rgba(255, 206, 86, 0.6)"
         },
         "mode": "lines+markers",
         "name": "ReLU",
         "showlegend": false,
         "type": "scatter",
         "x": [
          1,
          2,
          3,
          4,
          5,
          6,
          7,
          8,
          9,
          10,
          11,
          12,
          13,
          14,
          15
         ],
         "xaxis": "x2",
         "y": [
          0.6311760544776917,
          0.8726513385772705,
          0.8997912406921387,
          0.9123173356056213,
          0.9290187954902649,
          0.9401531219482422,
          0.9429366588592529,
          0.9547668695449829,
          0.9575504660606384,
          0.962421715259552,
          0.9700765609741211,
          0.9749478101730347,
          0.9749478101730347,
          0.9777314066886902,
          0.9791231751441956
         ],
         "yaxis": "y2"
        },
        {
         "legendgroup": "Hardshrink",
         "line": {
          "color": "rgba(75, 192, 192, 0.6)"
         },
         "mode": "lines+markers",
         "name": "Hardshrink",
         "showlegend": true,
         "type": "scatter",
         "x": [
          1,
          2,
          3,
          4,
          5,
          6,
          7,
          8,
          9,
          10,
          11,
          12,
          13,
          14,
          15
         ],
         "y": [
          2.106672277696114,
          1.7470636369456993,
          1.3519496855506816,
          0.9757264471750916,
          0.7151872744225095,
          0.5483977654035007,
          0.44583650946451214,
          0.3731875257228262,
          0.3256331445984983,
          0.2840833225719781,
          0.25484103980625183,
          0.22739395269023602,
          0.21095279741594172,
          0.1914501260802741,
          0.1788253331441554
         ]
        },
        {
         "legendgroup": "Hardshrink",
         "line": {
          "color": "rgba(75, 192, 192, 0.6)"
         },
         "mode": "lines+markers",
         "name": "Hardshrink",
         "showlegend": false,
         "type": "scatter",
         "x": [
          1,
          2,
          3,
          4,
          5,
          6,
          7,
          8,
          9,
          10,
          11,
          12,
          13,
          14,
          15
         ],
         "xaxis": "x2",
         "y": [
          0.42101600766181946,
          0.7905358672142029,
          0.8580375909805298,
          0.8698678016662598,
          0.8851774334907532,
          0.913013219833374,
          0.9269310832023621,
          0.9338900446891785,
          0.9415448904037476,
          0.948503851890564,
          0.9540709853172302,
          0.9638134837150574,
          0.9589422345161438,
          0.9659011960029602,
          0.9652053117752075
         ],
         "yaxis": "y2"
        }
       ],
       "layout": {
        "height": 700,
        "legend": {
         "x": 1.05,
         "xanchor": "left",
         "y": 0.5,
         "yanchor": "middle"
        },
        "template": {
         "data": {
          "bar": [
           {
            "error_x": {
             "color": "#2a3f5f"
            },
            "error_y": {
             "color": "#2a3f5f"
            },
            "marker": {
             "line": {
              "color": "#E5ECF6",
              "width": 0.5
             },
             "pattern": {
              "fillmode": "overlay",
              "size": 10,
              "solidity": 0.2
             }
            },
            "type": "bar"
           }
          ],
          "barpolar": [
           {
            "marker": {
             "line": {
              "color": "#E5ECF6",
              "width": 0.5
             },
             "pattern": {
              "fillmode": "overlay",
              "size": 10,
              "solidity": 0.2
             }
            },
            "type": "barpolar"
           }
          ],
          "carpet": [
           {
            "aaxis": {
             "endlinecolor": "#2a3f5f",
             "gridcolor": "white",
             "linecolor": "white",
             "minorgridcolor": "white",
             "startlinecolor": "#2a3f5f"
            },
            "baxis": {
             "endlinecolor": "#2a3f5f",
             "gridcolor": "white",
             "linecolor": "white",
             "minorgridcolor": "white",
             "startlinecolor": "#2a3f5f"
            },
            "type": "carpet"
           }
          ],
          "choropleth": [
           {
            "colorbar": {
             "outlinewidth": 0,
             "ticks": ""
            },
            "type": "choropleth"
           }
          ],
          "contour": [
           {
            "colorbar": {
             "outlinewidth": 0,
             "ticks": ""
            },
            "colorscale": [
             [
              0,
              "#0d0887"
             ],
             [
              0.1111111111111111,
              "#46039f"
             ],
             [
              0.2222222222222222,
              "#7201a8"
             ],
             [
              0.3333333333333333,
              "#9c179e"
             ],
             [
              0.4444444444444444,
              "#bd3786"
             ],
             [
              0.5555555555555556,
              "#d8576b"
             ],
             [
              0.6666666666666666,
              "#ed7953"
             ],
             [
              0.7777777777777778,
              "#fb9f3a"
             ],
             [
              0.8888888888888888,
              "#fdca26"
             ],
             [
              1,
              "#f0f921"
             ]
            ],
            "type": "contour"
           }
          ],
          "contourcarpet": [
           {
            "colorbar": {
             "outlinewidth": 0,
             "ticks": ""
            },
            "type": "contourcarpet"
           }
          ],
          "heatmap": [
           {
            "colorbar": {
             "outlinewidth": 0,
             "ticks": ""
            },
            "colorscale": [
             [
              0,
              "#0d0887"
             ],
             [
              0.1111111111111111,
              "#46039f"
             ],
             [
              0.2222222222222222,
              "#7201a8"
             ],
             [
              0.3333333333333333,
              "#9c179e"
             ],
             [
              0.4444444444444444,
              "#bd3786"
             ],
             [
              0.5555555555555556,
              "#d8576b"
             ],
             [
              0.6666666666666666,
              "#ed7953"
             ],
             [
              0.7777777777777778,
              "#fb9f3a"
             ],
             [
              0.8888888888888888,
              "#fdca26"
             ],
             [
              1,
              "#f0f921"
             ]
            ],
            "type": "heatmap"
           }
          ],
          "heatmapgl": [
           {
            "colorbar": {
             "outlinewidth": 0,
             "ticks": ""
            },
            "colorscale": [
             [
              0,
              "#0d0887"
             ],
             [
              0.1111111111111111,
              "#46039f"
             ],
             [
              0.2222222222222222,
              "#7201a8"
             ],
             [
              0.3333333333333333,
              "#9c179e"
             ],
             [
              0.4444444444444444,
              "#bd3786"
             ],
             [
              0.5555555555555556,
              "#d8576b"
             ],
             [
              0.6666666666666666,
              "#ed7953"
             ],
             [
              0.7777777777777778,
              "#fb9f3a"
             ],
             [
              0.8888888888888888,
              "#fdca26"
             ],
             [
              1,
              "#f0f921"
             ]
            ],
            "type": "heatmapgl"
           }
          ],
          "histogram": [
           {
            "marker": {
             "pattern": {
              "fillmode": "overlay",
              "size": 10,
              "solidity": 0.2
             }
            },
            "type": "histogram"
           }
          ],
          "histogram2d": [
           {
            "colorbar": {
             "outlinewidth": 0,
             "ticks": ""
            },
            "colorscale": [
             [
              0,
              "#0d0887"
             ],
             [
              0.1111111111111111,
              "#46039f"
             ],
             [
              0.2222222222222222,
              "#7201a8"
             ],
             [
              0.3333333333333333,
              "#9c179e"
             ],
             [
              0.4444444444444444,
              "#bd3786"
             ],
             [
              0.5555555555555556,
              "#d8576b"
             ],
             [
              0.6666666666666666,
              "#ed7953"
             ],
             [
              0.7777777777777778,
              "#fb9f3a"
             ],
             [
              0.8888888888888888,
              "#fdca26"
             ],
             [
              1,
              "#f0f921"
             ]
            ],
            "type": "histogram2d"
           }
          ],
          "histogram2dcontour": [
           {
            "colorbar": {
             "outlinewidth": 0,
             "ticks": ""
            },
            "colorscale": [
             [
              0,
              "#0d0887"
             ],
             [
              0.1111111111111111,
              "#46039f"
             ],
             [
              0.2222222222222222,
              "#7201a8"
             ],
             [
              0.3333333333333333,
              "#9c179e"
             ],
             [
              0.4444444444444444,
              "#bd3786"
             ],
             [
              0.5555555555555556,
              "#d8576b"
             ],
             [
              0.6666666666666666,
              "#ed7953"
             ],
             [
              0.7777777777777778,
              "#fb9f3a"
             ],
             [
              0.8888888888888888,
              "#fdca26"
             ],
             [
              1,
              "#f0f921"
             ]
            ],
            "type": "histogram2dcontour"
           }
          ],
          "mesh3d": [
           {
            "colorbar": {
             "outlinewidth": 0,
             "ticks": ""
            },
            "type": "mesh3d"
           }
          ],
          "parcoords": [
           {
            "line": {
             "colorbar": {
              "outlinewidth": 0,
              "ticks": ""
             }
            },
            "type": "parcoords"
           }
          ],
          "pie": [
           {
            "automargin": true,
            "type": "pie"
           }
          ],
          "scatter": [
           {
            "fillpattern": {
             "fillmode": "overlay",
             "size": 10,
             "solidity": 0.2
            },
            "type": "scatter"
           }
          ],
          "scatter3d": [
           {
            "line": {
             "colorbar": {
              "outlinewidth": 0,
              "ticks": ""
             }
            },
            "marker": {
             "colorbar": {
              "outlinewidth": 0,
              "ticks": ""
             }
            },
            "type": "scatter3d"
           }
          ],
          "scattercarpet": [
           {
            "marker": {
             "colorbar": {
              "outlinewidth": 0,
              "ticks": ""
             }
            },
            "type": "scattercarpet"
           }
          ],
          "scattergeo": [
           {
            "marker": {
             "colorbar": {
              "outlinewidth": 0,
              "ticks": ""
             }
            },
            "type": "scattergeo"
           }
          ],
          "scattergl": [
           {
            "marker": {
             "colorbar": {
              "outlinewidth": 0,
              "ticks": ""
             }
            },
            "type": "scattergl"
           }
          ],
          "scattermapbox": [
           {
            "marker": {
             "colorbar": {
              "outlinewidth": 0,
              "ticks": ""
             }
            },
            "type": "scattermapbox"
           }
          ],
          "scatterpolar": [
           {
            "marker": {
             "colorbar": {
              "outlinewidth": 0,
              "ticks": ""
             }
            },
            "type": "scatterpolar"
           }
          ],
          "scatterpolargl": [
           {
            "marker": {
             "colorbar": {
              "outlinewidth": 0,
              "ticks": ""
             }
            },
            "type": "scatterpolargl"
           }
          ],
          "scatterternary": [
           {
            "marker": {
             "colorbar": {
              "outlinewidth": 0,
              "ticks": ""
             }
            },
            "type": "scatterternary"
           }
          ],
          "surface": [
           {
            "colorbar": {
             "outlinewidth": 0,
             "ticks": ""
            },
            "colorscale": [
             [
              0,
              "#0d0887"
             ],
             [
              0.1111111111111111,
              "#46039f"
             ],
             [
              0.2222222222222222,
              "#7201a8"
             ],
             [
              0.3333333333333333,
              "#9c179e"
             ],
             [
              0.4444444444444444,
              "#bd3786"
             ],
             [
              0.5555555555555556,
              "#d8576b"
             ],
             [
              0.6666666666666666,
              "#ed7953"
             ],
             [
              0.7777777777777778,
              "#fb9f3a"
             ],
             [
              0.8888888888888888,
              "#fdca26"
             ],
             [
              1,
              "#f0f921"
             ]
            ],
            "type": "surface"
           }
          ],
          "table": [
           {
            "cells": {
             "fill": {
              "color": "#EBF0F8"
             },
             "line": {
              "color": "white"
             }
            },
            "header": {
             "fill": {
              "color": "#C8D4E3"
             },
             "line": {
              "color": "white"
             }
            },
            "type": "table"
           }
          ]
         },
         "layout": {
          "annotationdefaults": {
           "arrowcolor": "#2a3f5f",
           "arrowhead": 0,
           "arrowwidth": 1
          },
          "autotypenumbers": "strict",
          "coloraxis": {
           "colorbar": {
            "outlinewidth": 0,
            "ticks": ""
           }
          },
          "colorscale": {
           "diverging": [
            [
             0,
             "#8e0152"
            ],
            [
             0.1,
             "#c51b7d"
            ],
            [
             0.2,
             "#de77ae"
            ],
            [
             0.3,
             "#f1b6da"
            ],
            [
             0.4,
             "#fde0ef"
            ],
            [
             0.5,
             "#f7f7f7"
            ],
            [
             0.6,
             "#e6f5d0"
            ],
            [
             0.7,
             "#b8e186"
            ],
            [
             0.8,
             "#7fbc41"
            ],
            [
             0.9,
             "#4d9221"
            ],
            [
             1,
             "#276419"
            ]
           ],
           "sequential": [
            [
             0,
             "#0d0887"
            ],
            [
             0.1111111111111111,
             "#46039f"
            ],
            [
             0.2222222222222222,
             "#7201a8"
            ],
            [
             0.3333333333333333,
             "#9c179e"
            ],
            [
             0.4444444444444444,
             "#bd3786"
            ],
            [
             0.5555555555555556,
             "#d8576b"
            ],
            [
             0.6666666666666666,
             "#ed7953"
            ],
            [
             0.7777777777777778,
             "#fb9f3a"
            ],
            [
             0.8888888888888888,
             "#fdca26"
            ],
            [
             1,
             "#f0f921"
            ]
           ],
           "sequentialminus": [
            [
             0,
             "#0d0887"
            ],
            [
             0.1111111111111111,
             "#46039f"
            ],
            [
             0.2222222222222222,
             "#7201a8"
            ],
            [
             0.3333333333333333,
             "#9c179e"
            ],
            [
             0.4444444444444444,
             "#bd3786"
            ],
            [
             0.5555555555555556,
             "#d8576b"
            ],
            [
             0.6666666666666666,
             "#ed7953"
            ],
            [
             0.7777777777777778,
             "#fb9f3a"
            ],
            [
             0.8888888888888888,
             "#fdca26"
            ],
            [
             1,
             "#f0f921"
            ]
           ]
          },
          "colorway": [
           "#636efa",
           "#EF553B",
           "#00cc96",
           "#ab63fa",
           "#FFA15A",
           "#19d3f3",
           "#FF6692",
           "#B6E880",
           "#FF97FF",
           "#FECB52"
          ],
          "font": {
           "color": "#2a3f5f"
          },
          "geo": {
           "bgcolor": "white",
           "lakecolor": "white",
           "landcolor": "#E5ECF6",
           "showlakes": true,
           "showland": true,
           "subunitcolor": "white"
          },
          "hoverlabel": {
           "align": "left"
          },
          "hovermode": "closest",
          "mapbox": {
           "style": "light"
          },
          "paper_bgcolor": "white",
          "plot_bgcolor": "#E5ECF6",
          "polar": {
           "angularaxis": {
            "gridcolor": "white",
            "linecolor": "white",
            "ticks": ""
           },
           "bgcolor": "#E5ECF6",
           "radialaxis": {
            "gridcolor": "white",
            "linecolor": "white",
            "ticks": ""
           }
          },
          "scene": {
           "xaxis": {
            "backgroundcolor": "#E5ECF6",
            "gridcolor": "white",
            "gridwidth": 2,
            "linecolor": "white",
            "showbackground": true,
            "ticks": "",
            "zerolinecolor": "white"
           },
           "yaxis": {
            "backgroundcolor": "#E5ECF6",
            "gridcolor": "white",
            "gridwidth": 2,
            "linecolor": "white",
            "showbackground": true,
            "ticks": "",
            "zerolinecolor": "white"
           },
           "zaxis": {
            "backgroundcolor": "#E5ECF6",
            "gridcolor": "white",
            "gridwidth": 2,
            "linecolor": "white",
            "showbackground": true,
            "ticks": "",
            "zerolinecolor": "white"
           }
          },
          "shapedefaults": {
           "line": {
            "color": "#2a3f5f"
           }
          },
          "ternary": {
           "aaxis": {
            "gridcolor": "white",
            "linecolor": "white",
            "ticks": ""
           },
           "baxis": {
            "gridcolor": "white",
            "linecolor": "white",
            "ticks": ""
           },
           "bgcolor": "#E5ECF6",
           "caxis": {
            "gridcolor": "white",
            "linecolor": "white",
            "ticks": ""
           }
          },
          "title": {
           "x": 0.05
          },
          "xaxis": {
           "automargin": true,
           "gridcolor": "white",
           "linecolor": "white",
           "ticks": "",
           "title": {
            "standoff": 15
           },
           "zerolinecolor": "white",
           "zerolinewidth": 2
          },
          "yaxis": {
           "automargin": true,
           "gridcolor": "white",
           "linecolor": "white",
           "ticks": "",
           "title": {
            "standoff": 15
           },
           "zerolinecolor": "white",
           "zerolinewidth": 2
          }
         }
        },
        "title": {
         "text": "Training Results: Loss and Accuracy"
        },
        "xaxis": {
         "domain": [
          0,
          0.45
         ],
         "title": {
          "text": "Epoch"
         }
        },
        "xaxis2": {
         "domain": [
          0.55,
          1
         ],
         "title": {
          "text": "Epoch"
         }
        },
        "yaxis": {
         "title": {
          "text": "Loss"
         }
        },
        "yaxis2": {
         "anchor": "x2",
         "title": {
          "text": "Accuracy (%)"
         }
        }
       }
      }
     },
     "metadata": {},
     "output_type": "display_data"
    }
   ],
   "source": [
    "import plotly.graph_objects as go\n",
    "\n",
    "\n",
    "def plot_training_results(results, colors):\n",
    "    if not results:\n",
    "        print(\"No results to display.\")\n",
    "        return\n",
    "\n",
    "    # Determine the number of epochs from the first entry in the results\n",
    "    epochs = list(range(1, len(next(iter(results.values()))['losses']) + 1))\n",
    "\n",
    "    # Create figures for loss and accuracy\n",
    "    fig = go.Figure()\n",
    "\n",
    "    # Adding Loss and Accuracy Traces\n",
    "    for name, data in results.items():\n",
    "        fig.add_trace(go.Scatter(\n",
    "            x=epochs, y=data['losses'],\n",
    "            mode='lines+markers',\n",
    "            name=name,\n",
    "            line=dict(color=colors[name]),\n",
    "            legendgroup=name,  # Group by name for single legend entry\n",
    "            showlegend=True\n",
    "        ))\n",
    "        fig.add_trace(go.Scatter(\n",
    "            x=epochs, y=data['accuracies'],\n",
    "            mode='lines+markers',\n",
    "            name=name,\n",
    "            line=dict(color=colors[name]),\n",
    "            xaxis='x2',\n",
    "            yaxis='y2',\n",
    "            legendgroup=name,  # Group by name for single legend entry\n",
    "            showlegend=False  # Hide legend for accuracy to avoid duplicate entries\n",
    "        ))\n",
    "\n",
    "    # Update layout for a subplot appearance with legend on the right\n",
    "    fig.update_layout(\n",
    "        title='Training Results: Loss and Accuracy',\n",
    "        xaxis=dict(title='Epoch', domain=[0, 0.45]),\n",
    "        yaxis=dict(title='Loss'),\n",
    "        xaxis2=dict(title='Epoch', domain=[0.55, 1]),\n",
    "        yaxis2=dict(title='Accuracy (%)', anchor='x2'),\n",
    "        legend=dict(\n",
    "            x=1.05,\n",
    "            xanchor='left',\n",
    "            y=0.5,\n",
    "            yanchor='middle'\n",
    "        ),\n",
    "        height=700\n",
    "    )\n",
    "\n",
    "    return fig\n",
    "\n",
    "\n",
    "plot_training_results(results, color_map).show()"
   ]
  },
  {
   "cell_type": "markdown",
   "metadata": {},
   "source": [
    "## Experimentation with Hidden Layers and Neurons"
   ]
  },
  {
   "cell_type": "code",
   "execution_count": 10,
   "metadata": {},
   "outputs": [
    {
     "name": "stdout",
     "output_type": "stream",
     "text": [
      "\n",
      "Training model with layers: [256]\n",
      "Test Accuracy: 95.57%\n",
      "\n",
      "Training model with layers: [256, 256]\n",
      "Test Accuracy: 95.94%\n",
      "\n",
      "Training model with layers: [512]\n",
      "Test Accuracy: 95.05%\n",
      "\n",
      "Training model with layers: [128, 256, 128]\n",
      "Test Accuracy: 94.64%\n",
      "\n",
      "Training model with layers: [128, 256, 256, 128]\n",
      "Test Accuracy: 94.64%\n"
     ]
    }
   ],
   "source": [
    "def network_configurations(input_size, num_classes, configurations, train_loader, test_loader):\n",
    "    results = {}\n",
    "    for config in configurations:\n",
    "        print(f\"\\nTraining model with layers: {config}\")\n",
    "        model = MLPNN(input_size=input_size,\n",
    "                      num_classes=num_classes, layers=config)\n",
    "        criterion = nn.CrossEntropyLoss()\n",
    "        optimizer = torch.optim.Adam(model.parameters(), lr=0.001)\n",
    "\n",
    "        losses, accuracies = train_model(\n",
    "            model, train_loader, criterion, optimizer)\n",
    "        evaluate_model(model, test_loader)\n",
    "        results[f\"Layers {len(config)} Neurons {config}\"] = {\n",
    "            'losses': losses,\n",
    "            'accuracies': accuracies\n",
    "        }\n",
    "\n",
    "    return results\n",
    "\n",
    "\n",
    "# Different configurations\n",
    "configurations = [\n",
    "    [256],  # 1 hidden layer with 256 neurons\n",
    "    [256, 256],  # 2 hidden layers with 256 neurons each\n",
    "    [512],  # 1 hidden layer with 512 neurons\n",
    "    [128, 256, 128],    # 3 hidden layers with varying neurons\n",
    "    [128, 256, 256, 128],   # 4 hidden layers with varying neurons\n",
    "]\n",
    "\n",
    "nl_color_map = {\n",
    "    \"Layers 1 Neurons [256]\": \"rgba(255, 99, 132, 0.6)\",\n",
    "    \"Layers 2 Neurons [256, 256]\": \"rgba(54, 162, 235, 0.6)\",\n",
    "    \"Layers 1 Neurons [512]\": \"rgba(255, 206, 86, 0.6)\",\n",
    "    \"Layers 3 Neurons [128, 256, 128]\": \"rgba(153, 102, 255, 0.6)\",\n",
    "    \"Layers 4 Neurons [128, 256, 256, 128]\": \"rgba(75, 192, 192, 0.6)\",\n",
    "}\n",
    "\n",
    "# nl, short for Neurons & Layers\n",
    "nl_results = network_configurations(\n",
    "    input_size=64,\n",
    "    num_classes=10,\n",
    "    configurations=configurations,\n",
    "    train_loader=train_loader,\n",
    "    test_loader=test_loader\n",
    ")"
   ]
  },
  {
   "cell_type": "code",
   "execution_count": 11,
   "metadata": {},
   "outputs": [
    {
     "data": {
      "application/vnd.plotly.v1+json": {
       "config": {
        "plotlyServerURL": "https://plot.ly"
       },
       "data": [
        {
         "legendgroup": "Layers 1 Neurons [256]",
         "line": {
          "color": "rgba(255, 99, 132, 0.6)"
         },
         "mode": "lines+markers",
         "name": "Layers 1 Neurons [256]",
         "showlegend": true,
         "type": "scatter",
         "x": [
          1,
          2,
          3,
          4,
          5,
          6,
          7,
          8,
          9,
          10,
          11,
          12,
          13,
          14,
          15
         ],
         "y": [
          2.1158563911541517,
          1.5739604887567467,
          1.00467442607581,
          0.6386396650979315,
          0.451228436365174,
          0.34869457722207947,
          0.2824244289325191,
          0.23861367727786034,
          0.2106988346029174,
          0.18755759798617685,
          0.1662403539123847,
          0.1527922149117655,
          0.14076055886020408,
          0.1288379352998634,
          0.11979354089469485
         ]
        },
        {
         "legendgroup": "Layers 1 Neurons [256]",
         "line": {
          "color": "rgba(255, 99, 132, 0.6)"
         },
         "mode": "lines+markers",
         "name": "Layers 1 Neurons [256]",
         "showlegend": false,
         "type": "scatter",
         "x": [
          1,
          2,
          3,
          4,
          5,
          6,
          7,
          8,
          9,
          10,
          11,
          12,
          13,
          14,
          15
         ],
         "xaxis": "x2",
         "y": [
          0.5372303128242493,
          0.8413361310958862,
          0.893528163433075,
          0.9095337390899658,
          0.924843430519104,
          0.9394571781158447,
          0.9498956203460693,
          0.9533751010894775,
          0.9631175994873047,
          0.9596381187438965,
          0.9721642136573792,
          0.9693806767463684,
          0.9728600978851318,
          0.9784272909164429,
          0.9784272909164429
         ],
         "yaxis": "y2"
        },
        {
         "legendgroup": "Layers 2 Neurons [256, 256]",
         "line": {
          "color": "rgba(54, 162, 235, 0.6)"
         },
         "mode": "lines+markers",
         "name": "Layers 2 Neurons [256, 256]",
         "showlegend": true,
         "type": "scatter",
         "x": [
          1,
          2,
          3,
          4,
          5,
          6,
          7,
          8,
          9,
          10,
          11,
          12,
          13,
          14,
          15
         ],
         "y": [
          2.0414507878515233,
          1.035434178162882,
          0.429034865785989,
          0.25443167254463533,
          0.18141198626453045,
          0.1511929642121329,
          0.11691908538341522,
          0.097730550585767,
          0.08468134087369769,
          0.0786068772659919,
          0.06336805112945096,
          0.05712521460397259,
          0.051175969606816314,
          0.043055568494436716,
          0.03986742710156746
         ]
        },
        {
         "legendgroup": "Layers 2 Neurons [256, 256]",
         "line": {
          "color": "rgba(54, 162, 235, 0.6)"
         },
         "mode": "lines+markers",
         "name": "Layers 2 Neurons [256, 256]",
         "showlegend": false,
         "type": "scatter",
         "x": [
          1,
          2,
          3,
          4,
          5,
          6,
          7,
          8,
          9,
          10,
          11,
          12,
          13,
          14,
          15
         ],
         "xaxis": "x2",
         "y": [
          0.5859429240226746,
          0.8552539944648743,
          0.9025748372077942,
          0.9345859289169312,
          0.9533751010894775,
          0.9665970802307129,
          0.9749478101730347,
          0.9791231751441956,
          0.9832985401153564,
          0.9791231751441956,
          0.9874739050865173,
          0.98816978931427,
          0.9916492700576782,
          0.9930410385131836,
          0.9951287508010864
         ],
         "yaxis": "y2"
        },
        {
         "legendgroup": "Layers 1 Neurons [512]",
         "line": {
          "color": "rgba(255, 206, 86, 0.6)"
         },
         "mode": "lines+markers",
         "name": "Layers 1 Neurons [512]",
         "showlegend": true,
         "type": "scatter",
         "x": [
          1,
          2,
          3,
          4,
          5,
          6,
          7,
          8,
          9,
          10,
          11,
          12,
          13,
          14,
          15
         ],
         "y": [
          1.9756362246571104,
          1.1949252542224955,
          0.6267054360113629,
          0.3903447948525826,
          0.2877403603880955,
          0.23047348977213697,
          0.1910777282366424,
          0.1676370120019488,
          0.14554986222365207,
          0.1263853468223836,
          0.11938993135569571,
          0.10870270475371895,
          0.1007775959864041,
          0.08932096364395271,
          0.08587063019920242
         ]
        },
        {
         "legendgroup": "Layers 1 Neurons [512]",
         "line": {
          "color": "rgba(255, 206, 86, 0.6)"
         },
         "mode": "lines+markers",
         "name": "Layers 1 Neurons [512]",
         "showlegend": false,
         "type": "scatter",
         "x": [
          1,
          2,
          3,
          4,
          5,
          6,
          7,
          8,
          9,
          10,
          11,
          12,
          13,
          14,
          15
         ],
         "xaxis": "x2",
         "y": [
          0.5963813662528992,
          0.8698678016662598,
          0.9151009321212769,
          0.9324982762336731,
          0.9429366588592529,
          0.948503851890564,
          0.9638134837150574,
          0.9617258310317993,
          0.974251925945282,
          0.9791231751441956,
          0.9784272909164429,
          0.9798190593719482,
          0.9812108278274536,
          0.9853861927986145,
          0.9826026558876038
         ],
         "yaxis": "y2"
        },
        {
         "legendgroup": "Layers 3 Neurons [128, 256, 128]",
         "line": {
          "color": "rgba(153, 102, 255, 0.6)"
         },
         "mode": "lines+markers",
         "name": "Layers 3 Neurons [128, 256, 128]",
         "showlegend": true,
         "type": "scatter",
         "x": [
          1,
          2,
          3,
          4,
          5,
          6,
          7,
          8,
          9,
          10,
          11,
          12,
          13,
          14,
          15
         ],
         "y": [
          2.168474117417093,
          1.2342170074156944,
          0.5282878224519532,
          0.3233195085366235,
          0.23909426297507688,
          0.1903908172869898,
          0.15431314589625528,
          0.1308374307147521,
          0.11181660178237353,
          0.10313050258093272,
          0.07664114697243327,
          0.07314420519195751,
          0.060337428213534626,
          0.05493342480832865,
          0.04676766405964404
         ]
        },
        {
         "legendgroup": "Layers 3 Neurons [128, 256, 128]",
         "line": {
          "color": "rgba(153, 102, 255, 0.6)"
         },
         "mode": "lines+markers",
         "name": "Layers 3 Neurons [128, 256, 128]",
         "showlegend": false,
         "type": "scatter",
         "x": [
          1,
          2,
          3,
          4,
          5,
          6,
          7,
          8,
          9,
          10,
          11,
          12,
          13,
          14,
          15
         ],
         "xaxis": "x2",
         "y": [
          0.4572024941444397,
          0.7230340838432312,
          0.8538622260093689,
          0.9039666056632996,
          0.9338900446891785,
          0.9498956203460693,
          0.9540709853172302,
          0.9631175994873047,
          0.9679888486862183,
          0.9693806767463684,
          0.9805149435997009,
          0.9812108278274536,
          0.9798190593719482,
          0.9874739050865173,
          0.9895615577697754
         ],
         "yaxis": "y2"
        },
        {
         "legendgroup": "Layers 4 Neurons [128, 256, 256, 128]",
         "line": {
          "color": "rgba(75, 192, 192, 0.6)"
         },
         "mode": "lines+markers",
         "name": "Layers 4 Neurons [128, 256, 256, 128]",
         "showlegend": true,
         "type": "scatter",
         "x": [
          1,
          2,
          3,
          4,
          5,
          6,
          7,
          8,
          9,
          10,
          11,
          12,
          13,
          14,
          15
         ],
         "y": [
          2.1423440541172494,
          0.9469928331232436,
          0.4297555873355852,
          0.2832640695982537,
          0.2188801862812739,
          0.16699552774512277,
          0.13460331700519299,
          0.12440241982145449,
          0.0967539627475712,
          0.07584127044939049,
          0.06226137996746503,
          0.0580384666949158,
          0.04764238533952125,
          0.036345166526864446,
          0.027768366185270336
         ]
        },
        {
         "legendgroup": "Layers 4 Neurons [128, 256, 256, 128]",
         "line": {
          "color": "rgba(75, 192, 192, 0.6)"
         },
         "mode": "lines+markers",
         "name": "Layers 4 Neurons [128, 256, 256, 128]",
         "showlegend": false,
         "type": "scatter",
         "x": [
          1,
          2,
          3,
          4,
          5,
          6,
          7,
          8,
          9,
          10,
          11,
          12,
          13,
          14,
          15
         ],
         "xaxis": "x2",
         "y": [
          0.3409881591796875,
          0.750869870185852,
          0.8517745137214661,
          0.9095337390899658,
          0.9255393147468567,
          0.9582463502883911,
          0.9631175994873047,
          0.9610299468040466,
          0.9714683294296265,
          0.9756436944007874,
          0.9839944243431091,
          0.9832985401153564,
          0.986082136631012,
          0.9909533858299255,
          0.9958246350288391
         ],
         "yaxis": "y2"
        }
       ],
       "layout": {
        "height": 700,
        "legend": {
         "x": 1.05,
         "xanchor": "left",
         "y": 0.5,
         "yanchor": "middle"
        },
        "template": {
         "data": {
          "bar": [
           {
            "error_x": {
             "color": "#2a3f5f"
            },
            "error_y": {
             "color": "#2a3f5f"
            },
            "marker": {
             "line": {
              "color": "#E5ECF6",
              "width": 0.5
             },
             "pattern": {
              "fillmode": "overlay",
              "size": 10,
              "solidity": 0.2
             }
            },
            "type": "bar"
           }
          ],
          "barpolar": [
           {
            "marker": {
             "line": {
              "color": "#E5ECF6",
              "width": 0.5
             },
             "pattern": {
              "fillmode": "overlay",
              "size": 10,
              "solidity": 0.2
             }
            },
            "type": "barpolar"
           }
          ],
          "carpet": [
           {
            "aaxis": {
             "endlinecolor": "#2a3f5f",
             "gridcolor": "white",
             "linecolor": "white",
             "minorgridcolor": "white",
             "startlinecolor": "#2a3f5f"
            },
            "baxis": {
             "endlinecolor": "#2a3f5f",
             "gridcolor": "white",
             "linecolor": "white",
             "minorgridcolor": "white",
             "startlinecolor": "#2a3f5f"
            },
            "type": "carpet"
           }
          ],
          "choropleth": [
           {
            "colorbar": {
             "outlinewidth": 0,
             "ticks": ""
            },
            "type": "choropleth"
           }
          ],
          "contour": [
           {
            "colorbar": {
             "outlinewidth": 0,
             "ticks": ""
            },
            "colorscale": [
             [
              0,
              "#0d0887"
             ],
             [
              0.1111111111111111,
              "#46039f"
             ],
             [
              0.2222222222222222,
              "#7201a8"
             ],
             [
              0.3333333333333333,
              "#9c179e"
             ],
             [
              0.4444444444444444,
              "#bd3786"
             ],
             [
              0.5555555555555556,
              "#d8576b"
             ],
             [
              0.6666666666666666,
              "#ed7953"
             ],
             [
              0.7777777777777778,
              "#fb9f3a"
             ],
             [
              0.8888888888888888,
              "#fdca26"
             ],
             [
              1,
              "#f0f921"
             ]
            ],
            "type": "contour"
           }
          ],
          "contourcarpet": [
           {
            "colorbar": {
             "outlinewidth": 0,
             "ticks": ""
            },
            "type": "contourcarpet"
           }
          ],
          "heatmap": [
           {
            "colorbar": {
             "outlinewidth": 0,
             "ticks": ""
            },
            "colorscale": [
             [
              0,
              "#0d0887"
             ],
             [
              0.1111111111111111,
              "#46039f"
             ],
             [
              0.2222222222222222,
              "#7201a8"
             ],
             [
              0.3333333333333333,
              "#9c179e"
             ],
             [
              0.4444444444444444,
              "#bd3786"
             ],
             [
              0.5555555555555556,
              "#d8576b"
             ],
             [
              0.6666666666666666,
              "#ed7953"
             ],
             [
              0.7777777777777778,
              "#fb9f3a"
             ],
             [
              0.8888888888888888,
              "#fdca26"
             ],
             [
              1,
              "#f0f921"
             ]
            ],
            "type": "heatmap"
           }
          ],
          "heatmapgl": [
           {
            "colorbar": {
             "outlinewidth": 0,
             "ticks": ""
            },
            "colorscale": [
             [
              0,
              "#0d0887"
             ],
             [
              0.1111111111111111,
              "#46039f"
             ],
             [
              0.2222222222222222,
              "#7201a8"
             ],
             [
              0.3333333333333333,
              "#9c179e"
             ],
             [
              0.4444444444444444,
              "#bd3786"
             ],
             [
              0.5555555555555556,
              "#d8576b"
             ],
             [
              0.6666666666666666,
              "#ed7953"
             ],
             [
              0.7777777777777778,
              "#fb9f3a"
             ],
             [
              0.8888888888888888,
              "#fdca26"
             ],
             [
              1,
              "#f0f921"
             ]
            ],
            "type": "heatmapgl"
           }
          ],
          "histogram": [
           {
            "marker": {
             "pattern": {
              "fillmode": "overlay",
              "size": 10,
              "solidity": 0.2
             }
            },
            "type": "histogram"
           }
          ],
          "histogram2d": [
           {
            "colorbar": {
             "outlinewidth": 0,
             "ticks": ""
            },
            "colorscale": [
             [
              0,
              "#0d0887"
             ],
             [
              0.1111111111111111,
              "#46039f"
             ],
             [
              0.2222222222222222,
              "#7201a8"
             ],
             [
              0.3333333333333333,
              "#9c179e"
             ],
             [
              0.4444444444444444,
              "#bd3786"
             ],
             [
              0.5555555555555556,
              "#d8576b"
             ],
             [
              0.6666666666666666,
              "#ed7953"
             ],
             [
              0.7777777777777778,
              "#fb9f3a"
             ],
             [
              0.8888888888888888,
              "#fdca26"
             ],
             [
              1,
              "#f0f921"
             ]
            ],
            "type": "histogram2d"
           }
          ],
          "histogram2dcontour": [
           {
            "colorbar": {
             "outlinewidth": 0,
             "ticks": ""
            },
            "colorscale": [
             [
              0,
              "#0d0887"
             ],
             [
              0.1111111111111111,
              "#46039f"
             ],
             [
              0.2222222222222222,
              "#7201a8"
             ],
             [
              0.3333333333333333,
              "#9c179e"
             ],
             [
              0.4444444444444444,
              "#bd3786"
             ],
             [
              0.5555555555555556,
              "#d8576b"
             ],
             [
              0.6666666666666666,
              "#ed7953"
             ],
             [
              0.7777777777777778,
              "#fb9f3a"
             ],
             [
              0.8888888888888888,
              "#fdca26"
             ],
             [
              1,
              "#f0f921"
             ]
            ],
            "type": "histogram2dcontour"
           }
          ],
          "mesh3d": [
           {
            "colorbar": {
             "outlinewidth": 0,
             "ticks": ""
            },
            "type": "mesh3d"
           }
          ],
          "parcoords": [
           {
            "line": {
             "colorbar": {
              "outlinewidth": 0,
              "ticks": ""
             }
            },
            "type": "parcoords"
           }
          ],
          "pie": [
           {
            "automargin": true,
            "type": "pie"
           }
          ],
          "scatter": [
           {
            "fillpattern": {
             "fillmode": "overlay",
             "size": 10,
             "solidity": 0.2
            },
            "type": "scatter"
           }
          ],
          "scatter3d": [
           {
            "line": {
             "colorbar": {
              "outlinewidth": 0,
              "ticks": ""
             }
            },
            "marker": {
             "colorbar": {
              "outlinewidth": 0,
              "ticks": ""
             }
            },
            "type": "scatter3d"
           }
          ],
          "scattercarpet": [
           {
            "marker": {
             "colorbar": {
              "outlinewidth": 0,
              "ticks": ""
             }
            },
            "type": "scattercarpet"
           }
          ],
          "scattergeo": [
           {
            "marker": {
             "colorbar": {
              "outlinewidth": 0,
              "ticks": ""
             }
            },
            "type": "scattergeo"
           }
          ],
          "scattergl": [
           {
            "marker": {
             "colorbar": {
              "outlinewidth": 0,
              "ticks": ""
             }
            },
            "type": "scattergl"
           }
          ],
          "scattermapbox": [
           {
            "marker": {
             "colorbar": {
              "outlinewidth": 0,
              "ticks": ""
             }
            },
            "type": "scattermapbox"
           }
          ],
          "scatterpolar": [
           {
            "marker": {
             "colorbar": {
              "outlinewidth": 0,
              "ticks": ""
             }
            },
            "type": "scatterpolar"
           }
          ],
          "scatterpolargl": [
           {
            "marker": {
             "colorbar": {
              "outlinewidth": 0,
              "ticks": ""
             }
            },
            "type": "scatterpolargl"
           }
          ],
          "scatterternary": [
           {
            "marker": {
             "colorbar": {
              "outlinewidth": 0,
              "ticks": ""
             }
            },
            "type": "scatterternary"
           }
          ],
          "surface": [
           {
            "colorbar": {
             "outlinewidth": 0,
             "ticks": ""
            },
            "colorscale": [
             [
              0,
              "#0d0887"
             ],
             [
              0.1111111111111111,
              "#46039f"
             ],
             [
              0.2222222222222222,
              "#7201a8"
             ],
             [
              0.3333333333333333,
              "#9c179e"
             ],
             [
              0.4444444444444444,
              "#bd3786"
             ],
             [
              0.5555555555555556,
              "#d8576b"
             ],
             [
              0.6666666666666666,
              "#ed7953"
             ],
             [
              0.7777777777777778,
              "#fb9f3a"
             ],
             [
              0.8888888888888888,
              "#fdca26"
             ],
             [
              1,
              "#f0f921"
             ]
            ],
            "type": "surface"
           }
          ],
          "table": [
           {
            "cells": {
             "fill": {
              "color": "#EBF0F8"
             },
             "line": {
              "color": "white"
             }
            },
            "header": {
             "fill": {
              "color": "#C8D4E3"
             },
             "line": {
              "color": "white"
             }
            },
            "type": "table"
           }
          ]
         },
         "layout": {
          "annotationdefaults": {
           "arrowcolor": "#2a3f5f",
           "arrowhead": 0,
           "arrowwidth": 1
          },
          "autotypenumbers": "strict",
          "coloraxis": {
           "colorbar": {
            "outlinewidth": 0,
            "ticks": ""
           }
          },
          "colorscale": {
           "diverging": [
            [
             0,
             "#8e0152"
            ],
            [
             0.1,
             "#c51b7d"
            ],
            [
             0.2,
             "#de77ae"
            ],
            [
             0.3,
             "#f1b6da"
            ],
            [
             0.4,
             "#fde0ef"
            ],
            [
             0.5,
             "#f7f7f7"
            ],
            [
             0.6,
             "#e6f5d0"
            ],
            [
             0.7,
             "#b8e186"
            ],
            [
             0.8,
             "#7fbc41"
            ],
            [
             0.9,
             "#4d9221"
            ],
            [
             1,
             "#276419"
            ]
           ],
           "sequential": [
            [
             0,
             "#0d0887"
            ],
            [
             0.1111111111111111,
             "#46039f"
            ],
            [
             0.2222222222222222,
             "#7201a8"
            ],
            [
             0.3333333333333333,
             "#9c179e"
            ],
            [
             0.4444444444444444,
             "#bd3786"
            ],
            [
             0.5555555555555556,
             "#d8576b"
            ],
            [
             0.6666666666666666,
             "#ed7953"
            ],
            [
             0.7777777777777778,
             "#fb9f3a"
            ],
            [
             0.8888888888888888,
             "#fdca26"
            ],
            [
             1,
             "#f0f921"
            ]
           ],
           "sequentialminus": [
            [
             0,
             "#0d0887"
            ],
            [
             0.1111111111111111,
             "#46039f"
            ],
            [
             0.2222222222222222,
             "#7201a8"
            ],
            [
             0.3333333333333333,
             "#9c179e"
            ],
            [
             0.4444444444444444,
             "#bd3786"
            ],
            [
             0.5555555555555556,
             "#d8576b"
            ],
            [
             0.6666666666666666,
             "#ed7953"
            ],
            [
             0.7777777777777778,
             "#fb9f3a"
            ],
            [
             0.8888888888888888,
             "#fdca26"
            ],
            [
             1,
             "#f0f921"
            ]
           ]
          },
          "colorway": [
           "#636efa",
           "#EF553B",
           "#00cc96",
           "#ab63fa",
           "#FFA15A",
           "#19d3f3",
           "#FF6692",
           "#B6E880",
           "#FF97FF",
           "#FECB52"
          ],
          "font": {
           "color": "#2a3f5f"
          },
          "geo": {
           "bgcolor": "white",
           "lakecolor": "white",
           "landcolor": "#E5ECF6",
           "showlakes": true,
           "showland": true,
           "subunitcolor": "white"
          },
          "hoverlabel": {
           "align": "left"
          },
          "hovermode": "closest",
          "mapbox": {
           "style": "light"
          },
          "paper_bgcolor": "white",
          "plot_bgcolor": "#E5ECF6",
          "polar": {
           "angularaxis": {
            "gridcolor": "white",
            "linecolor": "white",
            "ticks": ""
           },
           "bgcolor": "#E5ECF6",
           "radialaxis": {
            "gridcolor": "white",
            "linecolor": "white",
            "ticks": ""
           }
          },
          "scene": {
           "xaxis": {
            "backgroundcolor": "#E5ECF6",
            "gridcolor": "white",
            "gridwidth": 2,
            "linecolor": "white",
            "showbackground": true,
            "ticks": "",
            "zerolinecolor": "white"
           },
           "yaxis": {
            "backgroundcolor": "#E5ECF6",
            "gridcolor": "white",
            "gridwidth": 2,
            "linecolor": "white",
            "showbackground": true,
            "ticks": "",
            "zerolinecolor": "white"
           },
           "zaxis": {
            "backgroundcolor": "#E5ECF6",
            "gridcolor": "white",
            "gridwidth": 2,
            "linecolor": "white",
            "showbackground": true,
            "ticks": "",
            "zerolinecolor": "white"
           }
          },
          "shapedefaults": {
           "line": {
            "color": "#2a3f5f"
           }
          },
          "ternary": {
           "aaxis": {
            "gridcolor": "white",
            "linecolor": "white",
            "ticks": ""
           },
           "baxis": {
            "gridcolor": "white",
            "linecolor": "white",
            "ticks": ""
           },
           "bgcolor": "#E5ECF6",
           "caxis": {
            "gridcolor": "white",
            "linecolor": "white",
            "ticks": ""
           }
          },
          "title": {
           "x": 0.05
          },
          "xaxis": {
           "automargin": true,
           "gridcolor": "white",
           "linecolor": "white",
           "ticks": "",
           "title": {
            "standoff": 15
           },
           "zerolinecolor": "white",
           "zerolinewidth": 2
          },
          "yaxis": {
           "automargin": true,
           "gridcolor": "white",
           "linecolor": "white",
           "ticks": "",
           "title": {
            "standoff": 15
           },
           "zerolinecolor": "white",
           "zerolinewidth": 2
          }
         }
        },
        "title": {
         "text": "Training Results: Loss and Accuracy"
        },
        "xaxis": {
         "domain": [
          0,
          0.45
         ],
         "title": {
          "text": "Epoch"
         }
        },
        "xaxis2": {
         "domain": [
          0.55,
          1
         ],
         "title": {
          "text": "Epoch"
         }
        },
        "yaxis": {
         "title": {
          "text": "Loss"
         }
        },
        "yaxis2": {
         "anchor": "x2",
         "title": {
          "text": "Accuracy (%)"
         }
        }
       }
      }
     },
     "metadata": {},
     "output_type": "display_data"
    }
   ],
   "source": [
    "plot_training_results(nl_results, nl_color_map)"
   ]
  }
 ],
 "metadata": {
  "kernelspec": {
   "display_name": "AIML231",
   "language": "python",
   "name": "python3"
  },
  "language_info": {
   "codemirror_mode": {
    "name": "ipython",
    "version": 3
   },
   "file_extension": ".py",
   "mimetype": "text/x-python",
   "name": "python",
   "nbconvert_exporter": "python",
   "pygments_lexer": "ipython3",
   "version": "3.12.2"
  }
 },
 "nbformat": 4,
 "nbformat_minor": 2
}
